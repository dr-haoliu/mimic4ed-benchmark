{
 "cells": [
  {
   "cell_type": "markdown",
   "metadata": {
    "pycharm": {
     "name": "#%% md\n"
    }
   },
   "source": [
    "## Modeling for predicting hospitalization at ED triage"
   ]
  },
  {
   "cell_type": "code",
   "execution_count": 1,
   "metadata": {
    "pycharm": {
     "name": "#%%\n"
    }
   },
   "outputs": [
    {
     "name": "stdout",
     "output_type": "stream",
     "text": [
      "data_general_processing.ipynb\r\n",
      "data_general_processing.py\r\n",
      "dataset_path.py\r\n",
      "embedding_critical_v10\r\n",
      "embedding_hospitalization_v10\r\n",
      "embedding.py\r\n",
      "embedding_revisit_v10\r\n",
      "extract_icd.ipynb\r\n",
      "extract_master_dataset-haotesting-v1.ipynb\r\n",
      "extract_master_dataset.ipynb\r\n",
      "extract_master_dataset.py\r\n",
      "helpers.py\r\n",
      "hospitalization_triage_mlp\r\n",
      "medcodes\r\n",
      "medcode_utils.py\r\n",
      "__pycache__\r\n",
      "task1_logreg.pickle\r\n",
      "Task_1_Model_hospitalization_triage.ipynb\r\n",
      "Task_2_Model_critical_triage.ipynb\r\n",
      "Task_3_Model_72h_ed_revisit_disposition.ipynb\r\n",
      "Task_4_Appendix_Model_critical_triage_disposition.ipynb\r\n",
      "utils.py\r\n"
     ]
    }
   ],
   "source": [
    "!ls"
   ]
  },
  {
   "cell_type": "code",
   "execution_count": 2,
   "metadata": {
    "pycharm": {
     "name": "#%%\n"
    }
   },
   "outputs": [],
   "source": [
    "output_path = '/home/wenglab/projects/mimic_iv/mimic4ed-benchmark/output/data/'"
   ]
  },
  {
   "cell_type": "markdown",
   "metadata": {
    "pycharm": {
     "name": "#%% md\n"
    }
   },
   "source": [
    "Work Flow:\n",
    "1. Task-specific filter\n",
    "2. Variable selection\n",
    "3. Modeling script\n",
    "4. Performance output\n"
   ]
  },
  {
   "cell_type": "markdown",
   "metadata": {
    "pycharm": {
     "name": "#%% md\n"
    }
   },
   "source": [
    "### Load train and test"
   ]
  },
  {
   "cell_type": "code",
   "execution_count": 3,
   "metadata": {
    "scrolled": true,
    "pycharm": {
     "name": "#%%\n"
    }
   },
   "outputs": [],
   "source": [
    "import os\n",
    "import time\n",
    "import random\n",
    "import tensorflow as tf\n",
    "import numpy as np\n",
    "import pandas as pd\n",
    "from matplotlib import pyplot as plt\n",
    "from sklearn.preprocessing import LabelEncoder\n",
    "from tensorflow.keras import optimizers, metrics\n",
    "from tensorflow.keras.layers import Dense\n",
    "from tensorflow.keras.models import load_model\n",
    "from helpers import PlotROCCurve\n",
    "\n",
    "# from dataset_path import output_path\n",
    "\n",
    "path = output_path\n",
    "output_path = os.path.join(path, \"Figure3\")\n",
    "df_train = pd.read_csv((os.path.join(path, 'train.csv')))\n",
    "df_test = pd.read_csv((os.path.join(path, 'test.csv')))\n",
    "confidence_interval = 95\n",
    "random_seed=0"
   ]
  },
  {
   "cell_type": "code",
   "execution_count": 4,
   "metadata": {
    "pycharm": {
     "name": "#%%\n"
    }
   },
   "outputs": [],
   "source": [
    "random.seed(random_seed)\n",
    "np.random.seed(random_seed)"
   ]
  },
  {
   "cell_type": "code",
   "execution_count": 5,
   "metadata": {
    "pycharm": {
     "name": "#%%\n"
    }
   },
   "outputs": [
    {
     "data": {
      "text/html": [
       "<div>\n",
       "<style scoped>\n",
       "    .dataframe tbody tr th:only-of-type {\n",
       "        vertical-align: middle;\n",
       "    }\n",
       "\n",
       "    .dataframe tbody tr th {\n",
       "        vertical-align: top;\n",
       "    }\n",
       "\n",
       "    .dataframe thead th {\n",
       "        text-align: right;\n",
       "    }\n",
       "</style>\n",
       "<table border=\"1\" class=\"dataframe\">\n",
       "  <thead>\n",
       "    <tr style=\"text-align: right;\">\n",
       "      <th></th>\n",
       "      <th>index</th>\n",
       "      <th>subject_id</th>\n",
       "      <th>hadm_id</th>\n",
       "      <th>stay_id</th>\n",
       "      <th>intime</th>\n",
       "      <th>outtime</th>\n",
       "      <th>gender</th>\n",
       "      <th>race</th>\n",
       "      <th>arrival_transport</th>\n",
       "      <th>disposition</th>\n",
       "      <th>anchor_age</th>\n",
       "      <th>anchor_year</th>\n",
       "      <th>dod</th>\n",
       "      <th>admittime</th>\n",
       "      <th>dischtime</th>\n",
       "      <th>deathtime</th>\n",
       "      <th>ethnicity</th>\n",
       "      <th>edregtime</th>\n",
       "      <th>edouttime</th>\n",
       "      <th>insurance</th>\n",
       "      <th>in_year</th>\n",
       "      <th>age</th>\n",
       "      <th>outcome_inhospital_mortality</th>\n",
       "      <th>ed_los</th>\n",
       "      <th>intime_icu</th>\n",
       "      <th>time_to_icu_transfer</th>\n",
       "      <th>outcome_icu_transfer_12h</th>\n",
       "      <th>outcome_hospitalization</th>\n",
       "      <th>outcome_critical</th>\n",
       "      <th>n_ed_30d</th>\n",
       "      <th>n_ed_90d</th>\n",
       "      <th>n_ed_365d</th>\n",
       "      <th>next_ed_visit_time</th>\n",
       "      <th>next_ed_visit_time_diff</th>\n",
       "      <th>outcome_ed_revisit_3d</th>\n",
       "      <th>n_hosp_30d</th>\n",
       "      <th>n_hosp_90d</th>\n",
       "      <th>n_hosp_365d</th>\n",
       "      <th>n_icu_30d</th>\n",
       "      <th>n_icu_90d</th>\n",
       "      <th>n_icu_365d</th>\n",
       "      <th>ed_los_hours</th>\n",
       "      <th>time_to_icu_transfer_hours</th>\n",
       "      <th>next_ed_visit_time_diff_days</th>\n",
       "      <th>triage_temperature</th>\n",
       "      <th>triage_heartrate</th>\n",
       "      <th>triage_resprate</th>\n",
       "      <th>triage_o2sat</th>\n",
       "      <th>triage_sbp</th>\n",
       "      <th>triage_dbp</th>\n",
       "      <th>...</th>\n",
       "      <th>cci_Liver2</th>\n",
       "      <th>cci_Cancer2</th>\n",
       "      <th>cci_HIV</th>\n",
       "      <th>eci_CHF</th>\n",
       "      <th>eci_Arrhythmia</th>\n",
       "      <th>eci_Valvular</th>\n",
       "      <th>eci_PHTN</th>\n",
       "      <th>eci_PVD</th>\n",
       "      <th>eci_HTN1</th>\n",
       "      <th>eci_HTN2</th>\n",
       "      <th>eci_Paralysis</th>\n",
       "      <th>eci_NeuroOther</th>\n",
       "      <th>eci_Pulmonary</th>\n",
       "      <th>eci_DM1</th>\n",
       "      <th>eci_DM2</th>\n",
       "      <th>eci_Hypothyroid</th>\n",
       "      <th>eci_Renal</th>\n",
       "      <th>eci_Liver</th>\n",
       "      <th>eci_PUD</th>\n",
       "      <th>eci_HIV</th>\n",
       "      <th>eci_Lymphoma</th>\n",
       "      <th>eci_Tumor2</th>\n",
       "      <th>eci_Tumor1</th>\n",
       "      <th>eci_Rheumatic</th>\n",
       "      <th>eci_Coagulopathy</th>\n",
       "      <th>eci_Obesity</th>\n",
       "      <th>eci_WeightLoss</th>\n",
       "      <th>eci_FluidsLytes</th>\n",
       "      <th>eci_BloodLoss</th>\n",
       "      <th>eci_Anemia</th>\n",
       "      <th>eci_Alcohol</th>\n",
       "      <th>eci_Drugs</th>\n",
       "      <th>eci_Psychoses</th>\n",
       "      <th>eci_Depression</th>\n",
       "      <th>ed_temperature_last</th>\n",
       "      <th>ed_heartrate_last</th>\n",
       "      <th>ed_resprate_last</th>\n",
       "      <th>ed_o2sat_last</th>\n",
       "      <th>ed_sbp_last</th>\n",
       "      <th>ed_dbp_last</th>\n",
       "      <th>ed_pain_last</th>\n",
       "      <th>n_med</th>\n",
       "      <th>n_medrecon</th>\n",
       "      <th>triage_MAP</th>\n",
       "      <th>score_CCI</th>\n",
       "      <th>score_CART</th>\n",
       "      <th>score_REMS</th>\n",
       "      <th>score_NEWS</th>\n",
       "      <th>score_NEWS2</th>\n",
       "      <th>score_MEWS</th>\n",
       "    </tr>\n",
       "  </thead>\n",
       "  <tbody>\n",
       "    <tr>\n",
       "      <th>0</th>\n",
       "      <td>185878</td>\n",
       "      <td>14173731</td>\n",
       "      <td>25558213.0</td>\n",
       "      <td>37567532</td>\n",
       "      <td>2183-04-07 19:33:00</td>\n",
       "      <td>2183-04-08 03:33:00</td>\n",
       "      <td>F</td>\n",
       "      <td>WHITE</td>\n",
       "      <td>WALK IN</td>\n",
       "      <td>ADMITTED</td>\n",
       "      <td>51</td>\n",
       "      <td>2183</td>\n",
       "      <td>NaN</td>\n",
       "      <td>2183-04-08 01:52:00</td>\n",
       "      <td>2183-04-15 15:35:00</td>\n",
       "      <td>NaN</td>\n",
       "      <td>WHITE</td>\n",
       "      <td>2183-04-07 19:33:00</td>\n",
       "      <td>2183-04-08 03:33:00</td>\n",
       "      <td>Other</td>\n",
       "      <td>2183</td>\n",
       "      <td>51</td>\n",
       "      <td>False</td>\n",
       "      <td>0 days 08:00:00</td>\n",
       "      <td>NaN</td>\n",
       "      <td>NaN</td>\n",
       "      <td>False</td>\n",
       "      <td>True</td>\n",
       "      <td>False</td>\n",
       "      <td>0</td>\n",
       "      <td>0</td>\n",
       "      <td>0</td>\n",
       "      <td>2183-07-07 00:36:00</td>\n",
       "      <td>89 days 21:03:00</td>\n",
       "      <td>False</td>\n",
       "      <td>0</td>\n",
       "      <td>0</td>\n",
       "      <td>0</td>\n",
       "      <td>0</td>\n",
       "      <td>0</td>\n",
       "      <td>0</td>\n",
       "      <td>8.00</td>\n",
       "      <td>NaN</td>\n",
       "      <td>89.88</td>\n",
       "      <td>36.333333</td>\n",
       "      <td>105.0</td>\n",
       "      <td>20.0</td>\n",
       "      <td>100.0</td>\n",
       "      <td>141.0</td>\n",
       "      <td>84.0</td>\n",
       "      <td>...</td>\n",
       "      <td>0</td>\n",
       "      <td>0</td>\n",
       "      <td>0</td>\n",
       "      <td>0</td>\n",
       "      <td>0</td>\n",
       "      <td>0</td>\n",
       "      <td>0</td>\n",
       "      <td>0</td>\n",
       "      <td>0</td>\n",
       "      <td>0</td>\n",
       "      <td>0</td>\n",
       "      <td>0</td>\n",
       "      <td>0</td>\n",
       "      <td>0</td>\n",
       "      <td>0</td>\n",
       "      <td>0</td>\n",
       "      <td>0</td>\n",
       "      <td>0</td>\n",
       "      <td>0</td>\n",
       "      <td>0</td>\n",
       "      <td>0</td>\n",
       "      <td>0</td>\n",
       "      <td>0</td>\n",
       "      <td>0</td>\n",
       "      <td>0</td>\n",
       "      <td>0</td>\n",
       "      <td>0</td>\n",
       "      <td>0</td>\n",
       "      <td>0</td>\n",
       "      <td>0</td>\n",
       "      <td>0</td>\n",
       "      <td>0</td>\n",
       "      <td>0</td>\n",
       "      <td>0</td>\n",
       "      <td>36.444444</td>\n",
       "      <td>80.0</td>\n",
       "      <td>16.0</td>\n",
       "      <td>95.0</td>\n",
       "      <td>106.0</td>\n",
       "      <td>70.0</td>\n",
       "      <td>2.0</td>\n",
       "      <td>3.0</td>\n",
       "      <td>6.0</td>\n",
       "      <td>103.000000</td>\n",
       "      <td>1</td>\n",
       "      <td>0</td>\n",
       "      <td>2</td>\n",
       "      <td>1</td>\n",
       "      <td>1</td>\n",
       "      <td>2</td>\n",
       "    </tr>\n",
       "    <tr>\n",
       "      <th>1</th>\n",
       "      <td>194353</td>\n",
       "      <td>14353044</td>\n",
       "      <td>NaN</td>\n",
       "      <td>38915834</td>\n",
       "      <td>2170-07-31 19:31:00</td>\n",
       "      <td>2170-07-31 23:11:00</td>\n",
       "      <td>M</td>\n",
       "      <td>WHITE</td>\n",
       "      <td>AMBULANCE</td>\n",
       "      <td>HOME</td>\n",
       "      <td>75</td>\n",
       "      <td>2166</td>\n",
       "      <td>2175-09-23</td>\n",
       "      <td>NaN</td>\n",
       "      <td>NaN</td>\n",
       "      <td>NaN</td>\n",
       "      <td>WHITE</td>\n",
       "      <td>NaN</td>\n",
       "      <td>NaN</td>\n",
       "      <td>NaN</td>\n",
       "      <td>2170</td>\n",
       "      <td>79</td>\n",
       "      <td>False</td>\n",
       "      <td>0 days 03:40:00</td>\n",
       "      <td>NaN</td>\n",
       "      <td>NaN</td>\n",
       "      <td>False</td>\n",
       "      <td>False</td>\n",
       "      <td>False</td>\n",
       "      <td>0</td>\n",
       "      <td>0</td>\n",
       "      <td>2</td>\n",
       "      <td>2170-08-21 22:56:00</td>\n",
       "      <td>20 days 23:45:00</td>\n",
       "      <td>False</td>\n",
       "      <td>0</td>\n",
       "      <td>0</td>\n",
       "      <td>1</td>\n",
       "      <td>0</td>\n",
       "      <td>0</td>\n",
       "      <td>0</td>\n",
       "      <td>3.67</td>\n",
       "      <td>NaN</td>\n",
       "      <td>20.99</td>\n",
       "      <td>38.000000</td>\n",
       "      <td>89.0</td>\n",
       "      <td>16.0</td>\n",
       "      <td>99.0</td>\n",
       "      <td>113.0</td>\n",
       "      <td>60.0</td>\n",
       "      <td>...</td>\n",
       "      <td>0</td>\n",
       "      <td>1</td>\n",
       "      <td>0</td>\n",
       "      <td>0</td>\n",
       "      <td>0</td>\n",
       "      <td>0</td>\n",
       "      <td>0</td>\n",
       "      <td>0</td>\n",
       "      <td>1</td>\n",
       "      <td>1</td>\n",
       "      <td>1</td>\n",
       "      <td>0</td>\n",
       "      <td>0</td>\n",
       "      <td>0</td>\n",
       "      <td>1</td>\n",
       "      <td>0</td>\n",
       "      <td>1</td>\n",
       "      <td>0</td>\n",
       "      <td>0</td>\n",
       "      <td>0</td>\n",
       "      <td>1</td>\n",
       "      <td>1</td>\n",
       "      <td>0</td>\n",
       "      <td>0</td>\n",
       "      <td>0</td>\n",
       "      <td>0</td>\n",
       "      <td>0</td>\n",
       "      <td>1</td>\n",
       "      <td>0</td>\n",
       "      <td>1</td>\n",
       "      <td>0</td>\n",
       "      <td>0</td>\n",
       "      <td>0</td>\n",
       "      <td>1</td>\n",
       "      <td>37.722222</td>\n",
       "      <td>88.0</td>\n",
       "      <td>16.0</td>\n",
       "      <td>96.0</td>\n",
       "      <td>113.0</td>\n",
       "      <td>62.0</td>\n",
       "      <td>0.0</td>\n",
       "      <td>1.0</td>\n",
       "      <td>28.0</td>\n",
       "      <td>77.666667</td>\n",
       "      <td>14</td>\n",
       "      <td>9</td>\n",
       "      <td>6</td>\n",
       "      <td>1</td>\n",
       "      <td>1</td>\n",
       "      <td>1</td>\n",
       "    </tr>\n",
       "    <tr>\n",
       "      <th>2</th>\n",
       "      <td>20783</td>\n",
       "      <td>10471160</td>\n",
       "      <td>NaN</td>\n",
       "      <td>35664949</td>\n",
       "      <td>2112-06-07 19:06:00</td>\n",
       "      <td>2112-06-07 22:05:00</td>\n",
       "      <td>M</td>\n",
       "      <td>WHITE</td>\n",
       "      <td>WALK IN</td>\n",
       "      <td>HOME</td>\n",
       "      <td>75</td>\n",
       "      <td>2111</td>\n",
       "      <td>NaN</td>\n",
       "      <td>NaN</td>\n",
       "      <td>NaN</td>\n",
       "      <td>NaN</td>\n",
       "      <td>NaN</td>\n",
       "      <td>NaN</td>\n",
       "      <td>NaN</td>\n",
       "      <td>NaN</td>\n",
       "      <td>2112</td>\n",
       "      <td>76</td>\n",
       "      <td>False</td>\n",
       "      <td>0 days 02:59:00</td>\n",
       "      <td>NaN</td>\n",
       "      <td>NaN</td>\n",
       "      <td>False</td>\n",
       "      <td>False</td>\n",
       "      <td>False</td>\n",
       "      <td>0</td>\n",
       "      <td>0</td>\n",
       "      <td>1</td>\n",
       "      <td>NaN</td>\n",
       "      <td>NaN</td>\n",
       "      <td>False</td>\n",
       "      <td>0</td>\n",
       "      <td>0</td>\n",
       "      <td>0</td>\n",
       "      <td>0</td>\n",
       "      <td>0</td>\n",
       "      <td>0</td>\n",
       "      <td>2.98</td>\n",
       "      <td>NaN</td>\n",
       "      <td>NaN</td>\n",
       "      <td>37.000000</td>\n",
       "      <td>78.0</td>\n",
       "      <td>16.0</td>\n",
       "      <td>98.0</td>\n",
       "      <td>104.0</td>\n",
       "      <td>79.0</td>\n",
       "      <td>...</td>\n",
       "      <td>0</td>\n",
       "      <td>0</td>\n",
       "      <td>0</td>\n",
       "      <td>0</td>\n",
       "      <td>0</td>\n",
       "      <td>0</td>\n",
       "      <td>0</td>\n",
       "      <td>0</td>\n",
       "      <td>0</td>\n",
       "      <td>0</td>\n",
       "      <td>0</td>\n",
       "      <td>0</td>\n",
       "      <td>0</td>\n",
       "      <td>0</td>\n",
       "      <td>0</td>\n",
       "      <td>0</td>\n",
       "      <td>0</td>\n",
       "      <td>0</td>\n",
       "      <td>0</td>\n",
       "      <td>0</td>\n",
       "      <td>0</td>\n",
       "      <td>0</td>\n",
       "      <td>0</td>\n",
       "      <td>0</td>\n",
       "      <td>0</td>\n",
       "      <td>0</td>\n",
       "      <td>0</td>\n",
       "      <td>0</td>\n",
       "      <td>0</td>\n",
       "      <td>0</td>\n",
       "      <td>0</td>\n",
       "      <td>0</td>\n",
       "      <td>0</td>\n",
       "      <td>0</td>\n",
       "      <td>36.777778</td>\n",
       "      <td>76.0</td>\n",
       "      <td>16.0</td>\n",
       "      <td>94.0</td>\n",
       "      <td>119.0</td>\n",
       "      <td>66.0</td>\n",
       "      <td>0.0</td>\n",
       "      <td>0.0</td>\n",
       "      <td>8.0</td>\n",
       "      <td>87.333333</td>\n",
       "      <td>3</td>\n",
       "      <td>9</td>\n",
       "      <td>6</td>\n",
       "      <td>1</td>\n",
       "      <td>1</td>\n",
       "      <td>1</td>\n",
       "    </tr>\n",
       "    <tr>\n",
       "      <th>3</th>\n",
       "      <td>227704</td>\n",
       "      <td>15106749</td>\n",
       "      <td>NaN</td>\n",
       "      <td>30191936</td>\n",
       "      <td>2131-03-26 12:22:00</td>\n",
       "      <td>2131-03-26 16:36:00</td>\n",
       "      <td>M</td>\n",
       "      <td>WHITE - OTHER EUROPEAN</td>\n",
       "      <td>WALK IN</td>\n",
       "      <td>HOME</td>\n",
       "      <td>80</td>\n",
       "      <td>2126</td>\n",
       "      <td>NaN</td>\n",
       "      <td>NaN</td>\n",
       "      <td>NaN</td>\n",
       "      <td>NaN</td>\n",
       "      <td>NaN</td>\n",
       "      <td>NaN</td>\n",
       "      <td>NaN</td>\n",
       "      <td>NaN</td>\n",
       "      <td>2131</td>\n",
       "      <td>85</td>\n",
       "      <td>False</td>\n",
       "      <td>0 days 04:14:00</td>\n",
       "      <td>NaN</td>\n",
       "      <td>NaN</td>\n",
       "      <td>False</td>\n",
       "      <td>False</td>\n",
       "      <td>False</td>\n",
       "      <td>0</td>\n",
       "      <td>0</td>\n",
       "      <td>0</td>\n",
       "      <td>2135-02-10 10:26:00</td>\n",
       "      <td>1416 days 17:50:00</td>\n",
       "      <td>False</td>\n",
       "      <td>0</td>\n",
       "      <td>0</td>\n",
       "      <td>0</td>\n",
       "      <td>0</td>\n",
       "      <td>0</td>\n",
       "      <td>0</td>\n",
       "      <td>4.23</td>\n",
       "      <td>NaN</td>\n",
       "      <td>1416.74</td>\n",
       "      <td>35.555556</td>\n",
       "      <td>60.0</td>\n",
       "      <td>18.0</td>\n",
       "      <td>95.0</td>\n",
       "      <td>141.0</td>\n",
       "      <td>68.0</td>\n",
       "      <td>...</td>\n",
       "      <td>0</td>\n",
       "      <td>0</td>\n",
       "      <td>0</td>\n",
       "      <td>0</td>\n",
       "      <td>0</td>\n",
       "      <td>0</td>\n",
       "      <td>0</td>\n",
       "      <td>0</td>\n",
       "      <td>0</td>\n",
       "      <td>0</td>\n",
       "      <td>0</td>\n",
       "      <td>0</td>\n",
       "      <td>0</td>\n",
       "      <td>0</td>\n",
       "      <td>0</td>\n",
       "      <td>0</td>\n",
       "      <td>0</td>\n",
       "      <td>0</td>\n",
       "      <td>0</td>\n",
       "      <td>0</td>\n",
       "      <td>0</td>\n",
       "      <td>0</td>\n",
       "      <td>0</td>\n",
       "      <td>0</td>\n",
       "      <td>0</td>\n",
       "      <td>0</td>\n",
       "      <td>0</td>\n",
       "      <td>0</td>\n",
       "      <td>0</td>\n",
       "      <td>0</td>\n",
       "      <td>0</td>\n",
       "      <td>0</td>\n",
       "      <td>0</td>\n",
       "      <td>0</td>\n",
       "      <td>36.611111</td>\n",
       "      <td>56.0</td>\n",
       "      <td>16.0</td>\n",
       "      <td>97.0</td>\n",
       "      <td>136.0</td>\n",
       "      <td>70.0</td>\n",
       "      <td>4.0</td>\n",
       "      <td>0.0</td>\n",
       "      <td>7.0</td>\n",
       "      <td>92.333333</td>\n",
       "      <td>4</td>\n",
       "      <td>9</td>\n",
       "      <td>8</td>\n",
       "      <td>2</td>\n",
       "      <td>1</td>\n",
       "      <td>1</td>\n",
       "    </tr>\n",
       "    <tr>\n",
       "      <th>4</th>\n",
       "      <td>414477</td>\n",
       "      <td>19255976</td>\n",
       "      <td>23983495.0</td>\n",
       "      <td>38973873</td>\n",
       "      <td>2148-10-08 17:20:00</td>\n",
       "      <td>2148-10-09 13:55:00</td>\n",
       "      <td>F</td>\n",
       "      <td>WHITE</td>\n",
       "      <td>AMBULANCE</td>\n",
       "      <td>HOME</td>\n",
       "      <td>73</td>\n",
       "      <td>2148</td>\n",
       "      <td>NaN</td>\n",
       "      <td>2148-10-08 22:29:00</td>\n",
       "      <td>2148-10-09 13:55:00</td>\n",
       "      <td>NaN</td>\n",
       "      <td>WHITE</td>\n",
       "      <td>2148-10-08 17:20:00</td>\n",
       "      <td>2148-10-09 13:55:00</td>\n",
       "      <td>Other</td>\n",
       "      <td>2148</td>\n",
       "      <td>73</td>\n",
       "      <td>False</td>\n",
       "      <td>0 days 20:35:00</td>\n",
       "      <td>NaN</td>\n",
       "      <td>NaN</td>\n",
       "      <td>False</td>\n",
       "      <td>True</td>\n",
       "      <td>False</td>\n",
       "      <td>1</td>\n",
       "      <td>1</td>\n",
       "      <td>1</td>\n",
       "      <td>NaN</td>\n",
       "      <td>NaN</td>\n",
       "      <td>False</td>\n",
       "      <td>0</td>\n",
       "      <td>0</td>\n",
       "      <td>0</td>\n",
       "      <td>0</td>\n",
       "      <td>0</td>\n",
       "      <td>0</td>\n",
       "      <td>20.58</td>\n",
       "      <td>NaN</td>\n",
       "      <td>NaN</td>\n",
       "      <td>38.611111</td>\n",
       "      <td>96.0</td>\n",
       "      <td>16.0</td>\n",
       "      <td>96.0</td>\n",
       "      <td>151.0</td>\n",
       "      <td>108.0</td>\n",
       "      <td>...</td>\n",
       "      <td>0</td>\n",
       "      <td>0</td>\n",
       "      <td>0</td>\n",
       "      <td>0</td>\n",
       "      <td>0</td>\n",
       "      <td>0</td>\n",
       "      <td>0</td>\n",
       "      <td>0</td>\n",
       "      <td>0</td>\n",
       "      <td>0</td>\n",
       "      <td>0</td>\n",
       "      <td>0</td>\n",
       "      <td>0</td>\n",
       "      <td>0</td>\n",
       "      <td>0</td>\n",
       "      <td>0</td>\n",
       "      <td>0</td>\n",
       "      <td>0</td>\n",
       "      <td>0</td>\n",
       "      <td>0</td>\n",
       "      <td>0</td>\n",
       "      <td>0</td>\n",
       "      <td>0</td>\n",
       "      <td>0</td>\n",
       "      <td>0</td>\n",
       "      <td>0</td>\n",
       "      <td>0</td>\n",
       "      <td>0</td>\n",
       "      <td>0</td>\n",
       "      <td>0</td>\n",
       "      <td>0</td>\n",
       "      <td>0</td>\n",
       "      <td>0</td>\n",
       "      <td>0</td>\n",
       "      <td>36.833333</td>\n",
       "      <td>81.0</td>\n",
       "      <td>19.0</td>\n",
       "      <td>97.0</td>\n",
       "      <td>126.0</td>\n",
       "      <td>76.0</td>\n",
       "      <td>1.0</td>\n",
       "      <td>2.0</td>\n",
       "      <td>5.0</td>\n",
       "      <td>122.333333</td>\n",
       "      <td>3</td>\n",
       "      <td>9</td>\n",
       "      <td>7</td>\n",
       "      <td>2</td>\n",
       "      <td>2</td>\n",
       "      <td>3</td>\n",
       "    </tr>\n",
       "  </tbody>\n",
       "</table>\n",
       "<p>5 rows × 127 columns</p>\n",
       "</div>"
      ],
      "text/plain": [
       "    index  subject_id     hadm_id   stay_id               intime  \\\n",
       "0  185878    14173731  25558213.0  37567532  2183-04-07 19:33:00   \n",
       "1  194353    14353044         NaN  38915834  2170-07-31 19:31:00   \n",
       "2   20783    10471160         NaN  35664949  2112-06-07 19:06:00   \n",
       "3  227704    15106749         NaN  30191936  2131-03-26 12:22:00   \n",
       "4  414477    19255976  23983495.0  38973873  2148-10-08 17:20:00   \n",
       "\n",
       "               outtime gender                    race arrival_transport  \\\n",
       "0  2183-04-08 03:33:00      F                   WHITE           WALK IN   \n",
       "1  2170-07-31 23:11:00      M                   WHITE         AMBULANCE   \n",
       "2  2112-06-07 22:05:00      M                   WHITE           WALK IN   \n",
       "3  2131-03-26 16:36:00      M  WHITE - OTHER EUROPEAN           WALK IN   \n",
       "4  2148-10-09 13:55:00      F                   WHITE         AMBULANCE   \n",
       "\n",
       "  disposition  anchor_age  anchor_year         dod            admittime  \\\n",
       "0    ADMITTED          51         2183         NaN  2183-04-08 01:52:00   \n",
       "1        HOME          75         2166  2175-09-23                  NaN   \n",
       "2        HOME          75         2111         NaN                  NaN   \n",
       "3        HOME          80         2126         NaN                  NaN   \n",
       "4        HOME          73         2148         NaN  2148-10-08 22:29:00   \n",
       "\n",
       "             dischtime deathtime ethnicity            edregtime  \\\n",
       "0  2183-04-15 15:35:00       NaN     WHITE  2183-04-07 19:33:00   \n",
       "1                  NaN       NaN     WHITE                  NaN   \n",
       "2                  NaN       NaN       NaN                  NaN   \n",
       "3                  NaN       NaN       NaN                  NaN   \n",
       "4  2148-10-09 13:55:00       NaN     WHITE  2148-10-08 17:20:00   \n",
       "\n",
       "             edouttime insurance  in_year  age  outcome_inhospital_mortality  \\\n",
       "0  2183-04-08 03:33:00     Other     2183   51                         False   \n",
       "1                  NaN       NaN     2170   79                         False   \n",
       "2                  NaN       NaN     2112   76                         False   \n",
       "3                  NaN       NaN     2131   85                         False   \n",
       "4  2148-10-09 13:55:00     Other     2148   73                         False   \n",
       "\n",
       "            ed_los intime_icu time_to_icu_transfer  outcome_icu_transfer_12h  \\\n",
       "0  0 days 08:00:00        NaN                  NaN                     False   \n",
       "1  0 days 03:40:00        NaN                  NaN                     False   \n",
       "2  0 days 02:59:00        NaN                  NaN                     False   \n",
       "3  0 days 04:14:00        NaN                  NaN                     False   \n",
       "4  0 days 20:35:00        NaN                  NaN                     False   \n",
       "\n",
       "   outcome_hospitalization  outcome_critical  n_ed_30d  n_ed_90d  n_ed_365d  \\\n",
       "0                     True             False         0         0          0   \n",
       "1                    False             False         0         0          2   \n",
       "2                    False             False         0         0          1   \n",
       "3                    False             False         0         0          0   \n",
       "4                     True             False         1         1          1   \n",
       "\n",
       "    next_ed_visit_time next_ed_visit_time_diff  outcome_ed_revisit_3d  \\\n",
       "0  2183-07-07 00:36:00        89 days 21:03:00                  False   \n",
       "1  2170-08-21 22:56:00        20 days 23:45:00                  False   \n",
       "2                  NaN                     NaN                  False   \n",
       "3  2135-02-10 10:26:00      1416 days 17:50:00                  False   \n",
       "4                  NaN                     NaN                  False   \n",
       "\n",
       "   n_hosp_30d  n_hosp_90d  n_hosp_365d  n_icu_30d  n_icu_90d  n_icu_365d  \\\n",
       "0           0           0            0          0          0           0   \n",
       "1           0           0            1          0          0           0   \n",
       "2           0           0            0          0          0           0   \n",
       "3           0           0            0          0          0           0   \n",
       "4           0           0            0          0          0           0   \n",
       "\n",
       "   ed_los_hours  time_to_icu_transfer_hours  next_ed_visit_time_diff_days  \\\n",
       "0          8.00                         NaN                         89.88   \n",
       "1          3.67                         NaN                         20.99   \n",
       "2          2.98                         NaN                           NaN   \n",
       "3          4.23                         NaN                       1416.74   \n",
       "4         20.58                         NaN                           NaN   \n",
       "\n",
       "   triage_temperature  triage_heartrate  triage_resprate  triage_o2sat  \\\n",
       "0           36.333333             105.0             20.0         100.0   \n",
       "1           38.000000              89.0             16.0          99.0   \n",
       "2           37.000000              78.0             16.0          98.0   \n",
       "3           35.555556              60.0             18.0          95.0   \n",
       "4           38.611111              96.0             16.0          96.0   \n",
       "\n",
       "   triage_sbp  triage_dbp  ...  cci_Liver2  cci_Cancer2 cci_HIV  eci_CHF  \\\n",
       "0       141.0        84.0  ...           0            0       0        0   \n",
       "1       113.0        60.0  ...           0            1       0        0   \n",
       "2       104.0        79.0  ...           0            0       0        0   \n",
       "3       141.0        68.0  ...           0            0       0        0   \n",
       "4       151.0       108.0  ...           0            0       0        0   \n",
       "\n",
       "   eci_Arrhythmia  eci_Valvular  eci_PHTN  eci_PVD  eci_HTN1  eci_HTN2  \\\n",
       "0               0             0         0        0         0         0   \n",
       "1               0             0         0        0         1         1   \n",
       "2               0             0         0        0         0         0   \n",
       "3               0             0         0        0         0         0   \n",
       "4               0             0         0        0         0         0   \n",
       "\n",
       "   eci_Paralysis  eci_NeuroOther  eci_Pulmonary  eci_DM1  eci_DM2  \\\n",
       "0              0               0              0        0        0   \n",
       "1              1               0              0        0        1   \n",
       "2              0               0              0        0        0   \n",
       "3              0               0              0        0        0   \n",
       "4              0               0              0        0        0   \n",
       "\n",
       "   eci_Hypothyroid  eci_Renal  eci_Liver  eci_PUD  eci_HIV  eci_Lymphoma  \\\n",
       "0                0          0          0        0        0             0   \n",
       "1                0          1          0        0        0             1   \n",
       "2                0          0          0        0        0             0   \n",
       "3                0          0          0        0        0             0   \n",
       "4                0          0          0        0        0             0   \n",
       "\n",
       "   eci_Tumor2  eci_Tumor1  eci_Rheumatic  eci_Coagulopathy  eci_Obesity  \\\n",
       "0           0           0              0                 0            0   \n",
       "1           1           0              0                 0            0   \n",
       "2           0           0              0                 0            0   \n",
       "3           0           0              0                 0            0   \n",
       "4           0           0              0                 0            0   \n",
       "\n",
       "   eci_WeightLoss  eci_FluidsLytes  eci_BloodLoss  eci_Anemia  eci_Alcohol  \\\n",
       "0               0                0              0           0            0   \n",
       "1               0                1              0           1            0   \n",
       "2               0                0              0           0            0   \n",
       "3               0                0              0           0            0   \n",
       "4               0                0              0           0            0   \n",
       "\n",
       "   eci_Drugs  eci_Psychoses  eci_Depression  ed_temperature_last  \\\n",
       "0          0              0               0            36.444444   \n",
       "1          0              0               1            37.722222   \n",
       "2          0              0               0            36.777778   \n",
       "3          0              0               0            36.611111   \n",
       "4          0              0               0            36.833333   \n",
       "\n",
       "   ed_heartrate_last  ed_resprate_last  ed_o2sat_last  ed_sbp_last  \\\n",
       "0               80.0              16.0           95.0        106.0   \n",
       "1               88.0              16.0           96.0        113.0   \n",
       "2               76.0              16.0           94.0        119.0   \n",
       "3               56.0              16.0           97.0        136.0   \n",
       "4               81.0              19.0           97.0        126.0   \n",
       "\n",
       "   ed_dbp_last  ed_pain_last  n_med  n_medrecon  triage_MAP  score_CCI  \\\n",
       "0         70.0           2.0    3.0         6.0  103.000000          1   \n",
       "1         62.0           0.0    1.0        28.0   77.666667         14   \n",
       "2         66.0           0.0    0.0         8.0   87.333333          3   \n",
       "3         70.0           4.0    0.0         7.0   92.333333          4   \n",
       "4         76.0           1.0    2.0         5.0  122.333333          3   \n",
       "\n",
       "   score_CART  score_REMS  score_NEWS  score_NEWS2  score_MEWS  \n",
       "0           0           2           1            1           2  \n",
       "1           9           6           1            1           1  \n",
       "2           9           6           1            1           1  \n",
       "3           9           8           2            1           1  \n",
       "4           9           7           2            2           3  \n",
       "\n",
       "[5 rows x 127 columns]"
      ]
     },
     "execution_count": 5,
     "metadata": {},
     "output_type": "execute_result"
    }
   ],
   "source": [
    "pd.set_option('display.max_columns', 100) \n",
    "pd.set_option('display.max_rows', 100) \n",
    "df_train.head()"
   ]
  },
  {
   "cell_type": "markdown",
   "metadata": {
    "pycharm": {
     "name": "#%% md\n"
    }
   },
   "source": [
    "### 1. Task-specific filter: No task-specific exclusion needed"
   ]
  },
  {
   "cell_type": "code",
   "execution_count": 6,
   "metadata": {
    "pycharm": {
     "name": "#%%\n"
    }
   },
   "outputs": [
    {
     "name": "stdout",
     "output_type": "stream",
     "text": [
      "training size = 352307 , testing size = 88077\n"
     ]
    }
   ],
   "source": [
    "print('training size =', len(df_train), ', testing size =', len(df_test))"
   ]
  },
  {
   "cell_type": "markdown",
   "metadata": {
    "pycharm": {
     "name": "#%% md\n"
    }
   },
   "source": [
    "### 2. Variable Selection"
   ]
  },
  {
   "cell_type": "code",
   "execution_count": 7,
   "metadata": {
    "pycharm": {
     "name": "#%%\n"
    }
   },
   "outputs": [],
   "source": [
    "variable = [\"age\", \"gender\", \n",
    "            \n",
    "            \"n_ed_30d\", \"n_ed_90d\", \"n_ed_365d\", \"n_hosp_30d\", \"n_hosp_90d\", \n",
    "            \"n_hosp_365d\", \"n_icu_30d\", \"n_icu_90d\", \"n_icu_365d\", \n",
    "            \n",
    "            \"triage_temperature\", \"triage_heartrate\", \"triage_resprate\", \n",
    "            \"triage_o2sat\", \"triage_sbp\", \"triage_dbp\", \"triage_pain\", \"triage_acuity\",\n",
    "            \n",
    "            \"chiefcom_chest_pain\", \"chiefcom_abdominal_pain\", \"chiefcom_headache\",\n",
    "            \"chiefcom_shortness_of_breath\", \"chiefcom_back_pain\", \"chiefcom_cough\", \n",
    "            \"chiefcom_nausea_vomiting\", \"chiefcom_fever_chills\", \"chiefcom_syncope\", \n",
    "            \"chiefcom_dizziness\", \n",
    "            \n",
    "            \"cci_MI\", \"cci_CHF\", \"cci_PVD\", \"cci_Stroke\", \"cci_Dementia\", \n",
    "            \"cci_Pulmonary\", \"cci_Rheumatic\", \"cci_PUD\", \"cci_Liver1\", \"cci_DM1\", \n",
    "            \"cci_DM2\", \"cci_Paralysis\", \"cci_Renal\", \"cci_Cancer1\", \"cci_Liver2\", \n",
    "            \"cci_Cancer2\", \"cci_HIV\", \n",
    "            \n",
    "            \"eci_Arrhythmia\", \"eci_Valvular\", \"eci_PHTN\",  \"eci_HTN1\", \"eci_HTN2\", \n",
    "            \"eci_NeuroOther\", \"eci_Hypothyroid\", \"eci_Lymphoma\", \"eci_Coagulopathy\", \n",
    "            \"eci_Obesity\", \"eci_WeightLoss\", \"eci_FluidsLytes\", \"eci_BloodLoss\",\n",
    "            \"eci_Anemia\", \"eci_Alcohol\", \"eci_Drugs\",\"eci_Psychoses\", \"eci_Depression\"]\n",
    "\n",
    "outcome = \"outcome_hospitalization\""
   ]
  },
  {
   "cell_type": "code",
   "execution_count": 8,
   "metadata": {
    "pycharm": {
     "name": "#%%\n"
    }
   },
   "outputs": [
    {
     "data": {
      "text/plain": [
       "['index',\n",
       " 'subject_id',\n",
       " 'hadm_id',\n",
       " 'stay_id',\n",
       " 'intime',\n",
       " 'outtime',\n",
       " 'gender',\n",
       " 'race',\n",
       " 'arrival_transport',\n",
       " 'disposition',\n",
       " 'anchor_age',\n",
       " 'anchor_year',\n",
       " 'dod',\n",
       " 'admittime',\n",
       " 'dischtime',\n",
       " 'deathtime',\n",
       " 'ethnicity',\n",
       " 'edregtime',\n",
       " 'edouttime',\n",
       " 'insurance',\n",
       " 'in_year',\n",
       " 'age',\n",
       " 'outcome_inhospital_mortality',\n",
       " 'ed_los',\n",
       " 'intime_icu',\n",
       " 'time_to_icu_transfer',\n",
       " 'outcome_icu_transfer_12h',\n",
       " 'outcome_hospitalization',\n",
       " 'outcome_critical',\n",
       " 'n_ed_30d',\n",
       " 'n_ed_90d',\n",
       " 'n_ed_365d',\n",
       " 'next_ed_visit_time',\n",
       " 'next_ed_visit_time_diff',\n",
       " 'outcome_ed_revisit_3d',\n",
       " 'n_hosp_30d',\n",
       " 'n_hosp_90d',\n",
       " 'n_hosp_365d',\n",
       " 'n_icu_30d',\n",
       " 'n_icu_90d',\n",
       " 'n_icu_365d',\n",
       " 'ed_los_hours',\n",
       " 'time_to_icu_transfer_hours',\n",
       " 'next_ed_visit_time_diff_days',\n",
       " 'triage_temperature',\n",
       " 'triage_heartrate',\n",
       " 'triage_resprate',\n",
       " 'triage_o2sat',\n",
       " 'triage_sbp',\n",
       " 'triage_dbp',\n",
       " 'triage_pain',\n",
       " 'triage_acuity',\n",
       " 'chiefcomplaint',\n",
       " 'chiefcom_chest_pain',\n",
       " 'chiefcom_abdominal_pain',\n",
       " 'chiefcom_headache',\n",
       " 'chiefcom_shortness_of_breath',\n",
       " 'chiefcom_back_pain',\n",
       " 'chiefcom_cough',\n",
       " 'chiefcom_nausea_vomiting',\n",
       " 'chiefcom_fever_chills',\n",
       " 'chiefcom_syncope',\n",
       " 'chiefcom_dizziness',\n",
       " 'cci_MI',\n",
       " 'cci_CHF',\n",
       " 'cci_PVD',\n",
       " 'cci_Stroke',\n",
       " 'cci_Dementia',\n",
       " 'cci_Pulmonary',\n",
       " 'cci_Rheumatic',\n",
       " 'cci_PUD',\n",
       " 'cci_Liver1',\n",
       " 'cci_DM1',\n",
       " 'cci_DM2',\n",
       " 'cci_Paralysis',\n",
       " 'cci_Renal',\n",
       " 'cci_Cancer1',\n",
       " 'cci_Liver2',\n",
       " 'cci_Cancer2',\n",
       " 'cci_HIV',\n",
       " 'eci_CHF',\n",
       " 'eci_Arrhythmia',\n",
       " 'eci_Valvular',\n",
       " 'eci_PHTN',\n",
       " 'eci_PVD',\n",
       " 'eci_HTN1',\n",
       " 'eci_HTN2',\n",
       " 'eci_Paralysis',\n",
       " 'eci_NeuroOther',\n",
       " 'eci_Pulmonary',\n",
       " 'eci_DM1',\n",
       " 'eci_DM2',\n",
       " 'eci_Hypothyroid',\n",
       " 'eci_Renal',\n",
       " 'eci_Liver',\n",
       " 'eci_PUD',\n",
       " 'eci_HIV',\n",
       " 'eci_Lymphoma',\n",
       " 'eci_Tumor2',\n",
       " 'eci_Tumor1',\n",
       " 'eci_Rheumatic',\n",
       " 'eci_Coagulopathy',\n",
       " 'eci_Obesity',\n",
       " 'eci_WeightLoss',\n",
       " 'eci_FluidsLytes',\n",
       " 'eci_BloodLoss',\n",
       " 'eci_Anemia',\n",
       " 'eci_Alcohol',\n",
       " 'eci_Drugs',\n",
       " 'eci_Psychoses',\n",
       " 'eci_Depression',\n",
       " 'ed_temperature_last',\n",
       " 'ed_heartrate_last',\n",
       " 'ed_resprate_last',\n",
       " 'ed_o2sat_last',\n",
       " 'ed_sbp_last',\n",
       " 'ed_dbp_last',\n",
       " 'ed_pain_last',\n",
       " 'n_med',\n",
       " 'n_medrecon',\n",
       " 'triage_MAP',\n",
       " 'score_CCI',\n",
       " 'score_CART',\n",
       " 'score_REMS',\n",
       " 'score_NEWS',\n",
       " 'score_NEWS2',\n",
       " 'score_MEWS']"
      ]
     },
     "execution_count": 8,
     "metadata": {},
     "output_type": "execute_result"
    }
   ],
   "source": [
    "df_train.columns.to_list()"
   ]
  },
  {
   "cell_type": "code",
   "execution_count": 9,
   "metadata": {
    "pycharm": {
     "name": "#%%\n"
    }
   },
   "outputs": [],
   "source": [
    "X_train = df_train[variable].copy()\n",
    "y_train = df_train[outcome].copy()\n",
    "X_test = df_test[variable].copy()\n",
    "y_test = df_test[outcome].copy()"
   ]
  },
  {
   "cell_type": "code",
   "execution_count": 10,
   "metadata": {
    "pycharm": {
     "name": "#%%\n"
    }
   },
   "outputs": [
    {
     "data": {
      "text/html": [
       "<div>\n",
       "<style scoped>\n",
       "    .dataframe tbody tr th:only-of-type {\n",
       "        vertical-align: middle;\n",
       "    }\n",
       "\n",
       "    .dataframe tbody tr th {\n",
       "        vertical-align: top;\n",
       "    }\n",
       "\n",
       "    .dataframe thead th {\n",
       "        text-align: right;\n",
       "    }\n",
       "</style>\n",
       "<table border=\"1\" class=\"dataframe\">\n",
       "  <thead>\n",
       "    <tr style=\"text-align: right;\">\n",
       "      <th></th>\n",
       "      <th>age</th>\n",
       "      <th>gender</th>\n",
       "      <th>n_ed_30d</th>\n",
       "      <th>n_ed_90d</th>\n",
       "      <th>n_ed_365d</th>\n",
       "      <th>n_hosp_30d</th>\n",
       "      <th>n_hosp_90d</th>\n",
       "      <th>n_hosp_365d</th>\n",
       "      <th>n_icu_30d</th>\n",
       "      <th>n_icu_90d</th>\n",
       "      <th>n_icu_365d</th>\n",
       "      <th>triage_temperature</th>\n",
       "      <th>triage_heartrate</th>\n",
       "      <th>triage_resprate</th>\n",
       "      <th>triage_o2sat</th>\n",
       "      <th>triage_sbp</th>\n",
       "      <th>triage_dbp</th>\n",
       "      <th>triage_pain</th>\n",
       "      <th>triage_acuity</th>\n",
       "      <th>chiefcom_chest_pain</th>\n",
       "      <th>chiefcom_abdominal_pain</th>\n",
       "      <th>chiefcom_headache</th>\n",
       "      <th>chiefcom_shortness_of_breath</th>\n",
       "      <th>chiefcom_back_pain</th>\n",
       "      <th>chiefcom_cough</th>\n",
       "      <th>chiefcom_nausea_vomiting</th>\n",
       "      <th>chiefcom_fever_chills</th>\n",
       "      <th>chiefcom_syncope</th>\n",
       "      <th>chiefcom_dizziness</th>\n",
       "      <th>cci_MI</th>\n",
       "      <th>cci_CHF</th>\n",
       "      <th>cci_PVD</th>\n",
       "      <th>cci_Stroke</th>\n",
       "      <th>cci_Dementia</th>\n",
       "      <th>cci_Pulmonary</th>\n",
       "      <th>cci_Rheumatic</th>\n",
       "      <th>cci_PUD</th>\n",
       "      <th>cci_Liver1</th>\n",
       "      <th>cci_DM1</th>\n",
       "      <th>cci_DM2</th>\n",
       "      <th>cci_Paralysis</th>\n",
       "      <th>cci_Renal</th>\n",
       "      <th>cci_Cancer1</th>\n",
       "      <th>cci_Liver2</th>\n",
       "      <th>cci_Cancer2</th>\n",
       "      <th>cci_HIV</th>\n",
       "      <th>eci_Arrhythmia</th>\n",
       "      <th>eci_Valvular</th>\n",
       "      <th>eci_PHTN</th>\n",
       "      <th>eci_HTN1</th>\n",
       "      <th>eci_HTN2</th>\n",
       "      <th>eci_NeuroOther</th>\n",
       "      <th>eci_Hypothyroid</th>\n",
       "      <th>eci_Lymphoma</th>\n",
       "      <th>eci_Coagulopathy</th>\n",
       "      <th>eci_Obesity</th>\n",
       "      <th>eci_WeightLoss</th>\n",
       "      <th>eci_FluidsLytes</th>\n",
       "      <th>eci_BloodLoss</th>\n",
       "      <th>eci_Anemia</th>\n",
       "      <th>eci_Alcohol</th>\n",
       "      <th>eci_Drugs</th>\n",
       "      <th>eci_Psychoses</th>\n",
       "      <th>eci_Depression</th>\n",
       "    </tr>\n",
       "  </thead>\n",
       "  <tbody>\n",
       "    <tr>\n",
       "      <th>0</th>\n",
       "      <td>int64</td>\n",
       "      <td>object</td>\n",
       "      <td>int64</td>\n",
       "      <td>int64</td>\n",
       "      <td>int64</td>\n",
       "      <td>int64</td>\n",
       "      <td>int64</td>\n",
       "      <td>int64</td>\n",
       "      <td>int64</td>\n",
       "      <td>int64</td>\n",
       "      <td>int64</td>\n",
       "      <td>float64</td>\n",
       "      <td>float64</td>\n",
       "      <td>float64</td>\n",
       "      <td>float64</td>\n",
       "      <td>float64</td>\n",
       "      <td>float64</td>\n",
       "      <td>float64</td>\n",
       "      <td>float64</td>\n",
       "      <td>bool</td>\n",
       "      <td>bool</td>\n",
       "      <td>bool</td>\n",
       "      <td>bool</td>\n",
       "      <td>bool</td>\n",
       "      <td>bool</td>\n",
       "      <td>bool</td>\n",
       "      <td>bool</td>\n",
       "      <td>bool</td>\n",
       "      <td>bool</td>\n",
       "      <td>int64</td>\n",
       "      <td>int64</td>\n",
       "      <td>int64</td>\n",
       "      <td>int64</td>\n",
       "      <td>int64</td>\n",
       "      <td>int64</td>\n",
       "      <td>int64</td>\n",
       "      <td>int64</td>\n",
       "      <td>int64</td>\n",
       "      <td>int64</td>\n",
       "      <td>int64</td>\n",
       "      <td>int64</td>\n",
       "      <td>int64</td>\n",
       "      <td>int64</td>\n",
       "      <td>int64</td>\n",
       "      <td>int64</td>\n",
       "      <td>int64</td>\n",
       "      <td>int64</td>\n",
       "      <td>int64</td>\n",
       "      <td>int64</td>\n",
       "      <td>int64</td>\n",
       "      <td>int64</td>\n",
       "      <td>int64</td>\n",
       "      <td>int64</td>\n",
       "      <td>int64</td>\n",
       "      <td>int64</td>\n",
       "      <td>int64</td>\n",
       "      <td>int64</td>\n",
       "      <td>int64</td>\n",
       "      <td>int64</td>\n",
       "      <td>int64</td>\n",
       "      <td>int64</td>\n",
       "      <td>int64</td>\n",
       "      <td>int64</td>\n",
       "      <td>int64</td>\n",
       "    </tr>\n",
       "  </tbody>\n",
       "</table>\n",
       "</div>"
      ],
      "text/plain": [
       "     age  gender n_ed_30d n_ed_90d n_ed_365d n_hosp_30d n_hosp_90d  \\\n",
       "0  int64  object    int64    int64     int64      int64      int64   \n",
       "\n",
       "  n_hosp_365d n_icu_30d n_icu_90d n_icu_365d triage_temperature  \\\n",
       "0       int64     int64     int64      int64            float64   \n",
       "\n",
       "  triage_heartrate triage_resprate triage_o2sat triage_sbp triage_dbp  \\\n",
       "0          float64         float64      float64    float64    float64   \n",
       "\n",
       "  triage_pain triage_acuity chiefcom_chest_pain chiefcom_abdominal_pain  \\\n",
       "0     float64       float64                bool                    bool   \n",
       "\n",
       "  chiefcom_headache chiefcom_shortness_of_breath chiefcom_back_pain  \\\n",
       "0              bool                         bool               bool   \n",
       "\n",
       "  chiefcom_cough chiefcom_nausea_vomiting chiefcom_fever_chills  \\\n",
       "0           bool                     bool                  bool   \n",
       "\n",
       "  chiefcom_syncope chiefcom_dizziness cci_MI cci_CHF cci_PVD cci_Stroke  \\\n",
       "0             bool               bool  int64   int64   int64      int64   \n",
       "\n",
       "  cci_Dementia cci_Pulmonary cci_Rheumatic cci_PUD cci_Liver1 cci_DM1 cci_DM2  \\\n",
       "0        int64         int64         int64   int64      int64   int64   int64   \n",
       "\n",
       "  cci_Paralysis cci_Renal cci_Cancer1 cci_Liver2 cci_Cancer2 cci_HIV  \\\n",
       "0         int64     int64       int64      int64       int64   int64   \n",
       "\n",
       "  eci_Arrhythmia eci_Valvular eci_PHTN eci_HTN1 eci_HTN2 eci_NeuroOther  \\\n",
       "0          int64        int64    int64    int64    int64          int64   \n",
       "\n",
       "  eci_Hypothyroid eci_Lymphoma eci_Coagulopathy eci_Obesity eci_WeightLoss  \\\n",
       "0           int64        int64            int64       int64          int64   \n",
       "\n",
       "  eci_FluidsLytes eci_BloodLoss eci_Anemia eci_Alcohol eci_Drugs  \\\n",
       "0           int64         int64      int64       int64     int64   \n",
       "\n",
       "  eci_Psychoses eci_Depression  \n",
       "0         int64          int64  "
      ]
     },
     "execution_count": 10,
     "metadata": {},
     "output_type": "execute_result"
    }
   ],
   "source": [
    "X_train.dtypes.to_frame().T"
   ]
  },
  {
   "cell_type": "code",
   "execution_count": 11,
   "metadata": {
    "pycharm": {
     "name": "#%%\n"
    }
   },
   "outputs": [],
   "source": [
    "encoder = LabelEncoder()\n",
    "X_train['gender'] = encoder.fit_transform(X_train['gender'])\n",
    "X_test['gender'] = encoder.transform(X_test['gender'])"
   ]
  },
  {
   "cell_type": "code",
   "execution_count": 12,
   "metadata": {
    "pycharm": {
     "name": "#%%\n"
    }
   },
   "outputs": [
    {
     "name": "stdout",
     "output_type": "stream",
     "text": [
      "class ratio\n",
      "positive : negative = 0.8999358251856485 : 1\n"
     ]
    }
   ],
   "source": [
    "print('class ratio')\n",
    "ratio = y_train.sum()/(~y_train).sum()\n",
    "print('positive : negative =', ratio, ': 1')"
   ]
  },
  {
   "cell_type": "markdown",
   "metadata": {
    "pycharm": {
     "name": "#%% md\n"
    }
   },
   "source": [
    "### 3.  Modeling script"
   ]
  },
  {
   "cell_type": "code",
   "execution_count": 13,
   "metadata": {
    "pycharm": {
     "name": "#%%\n"
    }
   },
   "outputs": [],
   "source": [
    "# Containers for all results\n",
    "result_list = []"
   ]
  },
  {
   "cell_type": "code",
   "execution_count": 14,
   "metadata": {
    "pycharm": {
     "name": "#%%\n"
    }
   },
   "outputs": [
    {
     "name": "stdout",
     "output_type": "stream",
     "text": [
      "Logistic Regression:\n"
     ]
    },
    {
     "name": "stderr",
     "output_type": "stream",
     "text": [
      "/home/wenglab/anaconda3/lib/python3.8/site-packages/sklearn/linear_model/_logistic.py:444: ConvergenceWarning: lbfgs failed to converge (status=1):\n",
      "STOP: TOTAL NO. of ITERATIONS REACHED LIMIT.\n",
      "\n",
      "Increase the number of iterations (max_iter) or scale the data as shown in:\n",
      "    https://scikit-learn.org/stable/modules/preprocessing.html\n",
      "Please also refer to the documentation for alternative solver options:\n",
      "    https://scikit-learn.org/stable/modules/linear_model.html#logistic-regression\n",
      "  n_iter_i = _check_optimize_result(\n"
     ]
    },
    {
     "name": "stdout",
     "output_type": "stream",
     "text": [
      "Training time: 6.281232595443726 seconds\n",
      "AUC: 0.8107631364977872\n",
      "AUPRC: 0.7765640770445182\n",
      "Sensitivity: 0.746351900377431\n",
      "Specificity: 0.7251936316695353\n",
      "Score thresold: 0.4496671923468405\n",
      "2.5 97.5\n"
     ]
    },
    {
     "data": {
      "image/png": "[encoded data removed]",
      "text/plain": [
       "<Figure size 432x288 with 1 Axes>"
      ]
     },
     "metadata": {
      "needs_background": "light"
     },
     "output_type": "display_data"
    },
    {
     "data": {
      "image/png": "[encoded data removed]",
      "text/plain": [
       "<Figure size 432x288 with 1 Axes>"
      ]
     },
     "metadata": {
      "needs_background": "light"
     },
     "output_type": "display_data"
    }
   ],
   "source": [
    "print(\"Logistic Regression:\")\n",
    "from sklearn.linear_model import LogisticRegression\n",
    "logreg=LogisticRegression(random_state=random_seed)\n",
    "start = time.time()\n",
    "logreg.fit(X_train,y_train)\n",
    "runtime = time.time()-start\n",
    "import pickle\n",
    "with open('task1_logreg.pickle', 'wb') as model_dump:\n",
    "    pickle.dump(logreg, model_dump)\n",
    "print('Training time:', runtime, 'seconds')\n",
    "probs = logreg.predict_proba(X_test)\n",
    "result = PlotROCCurve(probs[:,1],y_test, ci=confidence_interval, random_seed=random_seed)\n",
    "\n",
    "results = [\"LR\"]\n",
    "results.extend(result)\n",
    "results.append(runtime)\n",
    "result_list.append(results)\n",
    "\n"
   ]
  },
  {
   "cell_type": "code",
   "execution_count": 15,
   "metadata": {
    "pycharm": {
     "name": "#%%\n"
    }
   },
   "outputs": [
    {
     "name": "stdout",
     "output_type": "stream",
     "text": [
      "RandomForest:\n",
      "Training time: 76.05992579460144 seconds\n",
      "AUC: 0.8211597257050967\n",
      "AUPRC: 0.7888421551871336\n",
      "Sensitivity: 0.755775656898334\n",
      "Specificity: 0.7308734939759036\n",
      "Score thresold: 0.4804684898434899\n",
      "2.5 97.5\n"
     ]
    },
    {
     "data": {
      "image/png": "[encoded data removed]",
      "text/plain": [
       "<Figure size 432x288 with 1 Axes>"
      ]
     },
     "metadata": {
      "needs_background": "light"
     },
     "output_type": "display_data"
    },
    {
     "data": {
      "image/png": "[encoded data removed]",
      "text/plain": [
       "<Figure size 432x288 with 1 Axes>"
      ]
     },
     "metadata": {
      "needs_background": "light"
     },
     "output_type": "display_data"
    },
    {
     "name": "stdout",
     "output_type": "stream",
     "text": [
      "[0.12709663 0.01304367 0.00757568 0.01120353 0.02217615 0.00616102\n",
      " 0.01483551 0.0267712  0.00079684 0.00174104 0.00505327 0.07842526\n",
      " 0.08583637 0.04026746 0.04223199 0.08698217 0.08307585 0.0472148\n",
      " 0.11214038 0.00704657 0.00902989 0.00509473 0.00050909 0.00421605\n",
      " 0.00282391 0.00388997 0.00435992 0.00339942 0.00417298 0.00337507\n",
      " 0.00568746 0.00300146 0.00301887 0.00141463 0.00624559 0.00216036\n",
      " 0.00152101 0.0037478  0.00586223 0.00344265 0.00126117 0.00585346\n",
      " 0.00448977 0.00144071 0.00203854 0.00104693 0.00823475 0.00276303\n",
      " 0.0024386  0.0046556  0.01043574 0.0045332  0.00423864 0.000942\n",
      " 0.00389833 0.00484244 0.00348942 0.01274722 0.00115494 0.00335603\n",
      " 0.00485518 0.00408287 0.00281872 0.00773425]\n"
     ]
    }
   ],
   "source": [
    "print(\"RandomForest:\")\n",
    "from sklearn.ensemble import RandomForestClassifier\n",
    "rf= RandomForestClassifier(random_state=random_seed)\n",
    "start = time.time()\n",
    "rf.fit(X_train,y_train)\n",
    "runtime = time.time()-start\n",
    "print('Training time:', runtime, 'seconds')\n",
    "probs = rf.predict_proba(X_test)\n",
    "result = PlotROCCurve(probs[:,1],y_test, ci=confidence_interval, random_seed=random_seed)\n",
    "importances = rf.feature_importances_\n",
    "print(importances)\n",
    "\n",
    "results = [\"RF\"]\n",
    "results.extend(result)\n",
    "results.append(runtime)\n",
    "result_list.append(results)"
   ]
  },
  {
   "cell_type": "code",
   "execution_count": 16,
   "metadata": {
    "pycharm": {
     "name": "#%%\n"
    }
   },
   "outputs": [
    {
     "name": "stdout",
     "output_type": "stream",
     "text": [
      "GradientBoosting:\n",
      "Training time: 70.93339228630066 seconds\n",
      "AUC: 0.8209878450331778\n",
      "AUPRC: 0.7952767559776245\n",
      "Sensitivity: 0.7480587542370845\n",
      "Specificity: 0.738145438898451\n",
      "Score thresold: 0.4831440688230021\n",
      "2.5 97.5\n"
     ]
    },
    {
     "data": {
      "image/png": "[encoded data removed]",
      "text/plain": [
       "<Figure size 432x288 with 1 Axes>"
      ]
     },
     "metadata": {
      "needs_background": "light"
     },
     "output_type": "display_data"
    },
    {
     "data": {
      "image/png": "[encoded data removed]",
      "text/plain": [
       "<Figure size 432x288 with 1 Axes>"
      ]
     },
     "metadata": {
      "needs_background": "light"
     },
     "output_type": "display_data"
    }
   ],
   "source": [
    "print(\"GradientBoosting:\")\n",
    "from sklearn.ensemble import GradientBoostingClassifier\n",
    "gb = GradientBoostingClassifier(random_state=random_seed)\n",
    "start = time.time()\n",
    "gb.fit(X_train, y_train)\n",
    "runtime = time.time()-start\n",
    "print('Training time:', runtime, 'seconds')\n",
    "probs = gb.predict_proba(X_test)\n",
    "result = PlotROCCurve(probs[:,1],y_test, ci=confidence_interval, random_seed=random_seed)\n",
    "\n",
    "results = [\"GB\"]\n",
    "results.extend(result)\n",
    "results.append(runtime)\n",
    "result_list.append(results)"
   ]
  },
  {
   "cell_type": "code",
   "execution_count": 17,
   "metadata": {
    "pycharm": {
     "name": "#%%\n"
    }
   },
   "outputs": [],
   "source": [
    "class MLP(tf.keras.Model):\n",
    "    def __init__(self):\n",
    "        super(MLP, self).__init__()\n",
    "        self.dense_1 = Dense(128, activation='relu')\n",
    "        self.dense_2 = Dense(64, activation='relu')\n",
    "        self.classifier = Dense(1, activation='sigmoid')\n",
    "\n",
    "    def call(self, x):\n",
    "        x = self.dense_1(x)\n",
    "        x = self.dense_2(x)\n",
    "        return self.classifier(x)"
   ]
  },
  {
   "cell_type": "code",
   "execution_count": 18,
   "metadata": {
    "pycharm": {
     "name": "#%%\n"
    }
   },
   "outputs": [
    {
     "name": "stdout",
     "output_type": "stream",
     "text": [
      "Epoch 1/20\n",
      "1762/1762 [==============================] - 8s 4ms/step - loss: 0.5716 - accuracy: 0.7105 - auc: 0.7791 - auprc: 0.7441 - true_positives: 111902.0000 - true_negatives: 138411.0000 - precision: 0.7041 - recall: 0.6706\n",
      "Epoch 2/20\n",
      "1762/1762 [==============================] - 6s 4ms/step - loss: 0.5416 - accuracy: 0.7268 - auc: 0.8016 - auprc: 0.7717 - true_positives: 116321.0000 - true_negatives: 139736.0000 - precision: 0.7180 - recall: 0.6971\n",
      "Epoch 3/20\n",
      "1762/1762 [==============================] - 6s 4ms/step - loss: 0.5361 - accuracy: 0.7305 - auc: 0.8058 - auprc: 0.7764 - true_positives: 117617.0000 - true_negatives: 139738.0000 - precision: 0.7202 - recall: 0.7048\n",
      "Epoch 4/20\n",
      "1762/1762 [==============================] - 6s 4ms/step - loss: 0.5328 - accuracy: 0.7325 - auc: 0.8082 - auprc: 0.7797 - true_positives: 118323.0000 - true_negatives: 139732.0000 - precision: 0.7214 - recall: 0.7090\n",
      "Epoch 5/20\n",
      "1762/1762 [==============================] - 6s 4ms/step - loss: 0.5317 - accuracy: 0.7332 - auc: 0.8090 - auprc: 0.7799 - true_positives: 119192.0000 - true_negatives: 139135.0000 - precision: 0.7202 - recall: 0.7143\n",
      "Epoch 6/20\n",
      "1762/1762 [==============================] - 6s 4ms/step - loss: 0.5277 - accuracy: 0.7351 - auc: 0.8120 - auprc: 0.7840 - true_positives: 120534.0000 - true_negatives: 138441.0000 - precision: 0.7195 - recall: 0.7223\n",
      "Epoch 7/20\n",
      "1762/1762 [==============================] - 6s 4ms/step - loss: 0.5254 - accuracy: 0.7367 - auc: 0.8138 - auprc: 0.7859 - true_positives: 121425.0000 - true_negatives: 138134.0000 - precision: 0.7197 - recall: 0.7276\n",
      "Epoch 8/20\n",
      "1762/1762 [==============================] - 6s 4ms/step - loss: 0.5238 - accuracy: 0.7382 - auc: 0.8150 - auprc: 0.7876 - true_positives: 121828.0000 - true_negatives: 138240.0000 - precision: 0.7208 - recall: 0.7301\n",
      "Epoch 9/20\n",
      "1762/1762 [==============================] - 6s 4ms/step - loss: 0.5224 - accuracy: 0.7390 - auc: 0.8161 - auprc: 0.7887 - true_positives: 122136.0000 - true_negatives: 138210.0000 - precision: 0.7212 - recall: 0.7319\n",
      "Epoch 10/20\n",
      "1762/1762 [==============================] - 6s 4ms/step - loss: 0.5214 - accuracy: 0.7393 - auc: 0.8169 - auprc: 0.7900 - true_positives: 122519.0000 - true_negatives: 137934.0000 - precision: 0.7206 - recall: 0.7342\n",
      "Epoch 11/20\n",
      "1762/1762 [==============================] - 6s 4ms/step - loss: 0.5206 - accuracy: 0.7398 - auc: 0.8176 - auprc: 0.7911 - true_positives: 122447.0000 - true_negatives: 138177.0000 - precision: 0.7215 - recall: 0.7338\n",
      "Epoch 12/20\n",
      "1762/1762 [==============================] - 6s 4ms/step - loss: 0.5203 - accuracy: 0.7402 - auc: 0.8178 - auprc: 0.7908 - true_positives: 122495.0000 - true_negatives: 138283.0000 - precision: 0.7221 - recall: 0.7340\n",
      "Epoch 13/20\n",
      "1762/1762 [==============================] - 6s 4ms/step - loss: 0.5196 - accuracy: 0.7411 - auc: 0.8184 - auprc: 0.7913 - true_positives: 122713.0000 - true_negatives: 138367.0000 - precision: 0.7228 - recall: 0.7354\n",
      "Epoch 14/20\n",
      "1762/1762 [==============================] - 6s 4ms/step - loss: 0.5194 - accuracy: 0.7405 - auc: 0.8185 - auprc: 0.7918 - true_positives: 122611.0000 - true_negatives: 138287.0000 - precision: 0.7223 - recall: 0.7347\n",
      "Epoch 15/20\n",
      "1762/1762 [==============================] - 6s 4ms/step - loss: 0.5185 - accuracy: 0.7417 - auc: 0.8192 - auprc: 0.7930 - true_positives: 122970.0000 - true_negatives: 138327.0000 - precision: 0.7230 - recall: 0.7369\n",
      "Epoch 16/20\n",
      "1762/1762 [==============================] - 6s 4ms/step - loss: 0.5179 - accuracy: 0.7416 - auc: 0.8197 - auprc: 0.7935 - true_positives: 122901.0000 - true_negatives: 138372.0000 - precision: 0.7231 - recall: 0.7365\n",
      "Epoch 17/20\n",
      "1762/1762 [==============================] - 6s 4ms/step - loss: 0.5174 - accuracy: 0.7419 - auc: 0.8201 - auprc: 0.7942 - true_positives: 123068.0000 - true_negatives: 138323.0000 - precision: 0.7232 - recall: 0.7375\n",
      "Epoch 18/20\n",
      "1762/1762 [==============================] - 6s 4ms/step - loss: 0.5173 - accuracy: 0.7423 - auc: 0.8202 - auprc: 0.7944 - true_positives: 123094.0000 - true_negatives: 138438.0000 - precision: 0.7237 - recall: 0.7376\n",
      "Epoch 19/20\n",
      "1762/1762 [==============================] - 6s 4ms/step - loss: 0.5166 - accuracy: 0.7422 - auc: 0.8207 - auprc: 0.7951 - true_positives: 123193.0000 - true_negatives: 138294.0000 - precision: 0.7233 - recall: 0.7382\n",
      "Epoch 20/20\n",
      "1762/1762 [==============================] - 6s 4ms/step - loss: 0.5167 - accuracy: 0.7422 - auc: 0.8206 - auprc: 0.7951 - true_positives: 123480.0000 - true_negatives: 137991.0000 - precision: 0.7224 - recall: 0.7400\n",
      "Training time: 127.34073114395142 seconds\n",
      "INFO:tensorflow:Assets written to: hospitalization_triage_mlp/assets\n"
     ]
    }
   ],
   "source": [
    "# skip this cell if not retraining\n",
    "mlp = MLP()\n",
    "mlp.compile(loss='binary_crossentropy', \n",
    "              optimizer=optimizers.Adam(learning_rate=0.001), \n",
    "              metrics=['accuracy', 'AUC', {'auprc': metrics.AUC(name='auprc', curve='PR')}, \n",
    "                       'TruePositives', 'TrueNegatives', 'Precision', 'Recall'])\n",
    "start = time.time()\n",
    "mlp.fit(X_train.astype(np.float32), y_train, batch_size=200, epochs=20)\n",
    "runtime = time.time() - start\n",
    "print('Training time:', runtime, 'seconds')\n",
    "mlp.save('hospitalization_triage_mlp')"
   ]
  },
  {
   "cell_type": "code",
   "execution_count": 19,
   "metadata": {
    "pycharm": {
     "name": "#%%\n"
    }
   },
   "outputs": [
    {
     "name": "stdout",
     "output_type": "stream",
     "text": [
      "MLP:\n",
      "2753/2753 [==============================] - 3s 1ms/step\n",
      "AUC: 0.8255689892157174\n",
      "AUPRC: 0.8002020944422468\n",
      "Sensitivity: 0.7518811452748997\n",
      "Specificity: 0.7416953528399312\n",
      "Score thresold: 0.48262584\n",
      "2.5 97.5\n"
     ]
    },
    {
     "data": {
      "image/png": "[encoded data removed]",
      "text/plain": [
       "<Figure size 432x288 with 1 Axes>"
      ]
     },
     "metadata": {
      "needs_background": "light"
     },
     "output_type": "display_data"
    },
    {
     "data": {
      "image/png": "[encoded data removed]",
      "text/plain": [
       "<Figure size 432x288 with 1 Axes>"
      ]
     },
     "metadata": {
      "needs_background": "light"
     },
     "output_type": "display_data"
    }
   ],
   "source": [
    "print(\"MLP:\")\n",
    "mlp = load_model('hospitalization_triage_mlp')\n",
    "probs = mlp.predict(X_test.astype(np.float32))\n",
    "result = PlotROCCurve(probs,y_test, ci=confidence_interval, random_seed=random_seed)\n",
    "results = [\"MLP\"]\n",
    "results.extend(result)\n",
    "results.append(runtime)\n",
    "result_list.append(results)"
   ]
  },
  {
   "cell_type": "code",
   "execution_count": 20,
   "metadata": {
    "scrolled": true,
    "pycharm": {
     "name": "#%%\n"
    }
   },
   "outputs": [],
   "source": [
    "def get_score_performance(s, random_seed=0):\n",
    "    print(s)\n",
    "    score = np.array(df_test[s])\n",
    "    result = PlotROCCurve(score,y_test, ci=confidence_interval, random_seed=random_seed)\n",
    "    runtime = 0\n",
    "    results = [s]\n",
    "    results.extend(result)\n",
    "    results.append(runtime)\n",
    "    result_list.append(results)\n"
   ]
  },
  {
   "cell_type": "code",
   "execution_count": 21,
   "metadata": {
    "pycharm": {
     "name": "#%%\n"
    }
   },
   "outputs": [
    {
     "name": "stdout",
     "output_type": "stream",
     "text": [
      "esi\n",
      "AUC: 0.7103505611296028\n",
      "AUPRC: 0.6298074851429615\n",
      "Sensitivity: 0.5817486837993124\n",
      "Specificity: 0.7835197934595525\n",
      "Score thresold: -2.0\n",
      "2.5 97.5\n"
     ]
    },
    {
     "data": {
      "image/png": "[encoded data removed]",
      "text/plain": [
       "<Figure size 432x288 with 1 Axes>"
      ]
     },
     "metadata": {
      "needs_background": "light"
     },
     "output_type": "display_data"
    },
    {
     "data": {
      "image/png": "[encoded data removed]",
      "text/plain": [
       "<Figure size 432x288 with 1 Axes>"
      ]
     },
     "metadata": {
      "needs_background": "light"
     },
     "output_type": "display_data"
    }
   ],
   "source": [
    "df_test[\"esi\"] = -df_test[\"triage_acuity\"]\n",
    "get_score_performance(\"esi\", random_seed=random_seed)"
   ]
  },
  {
   "cell_type": "code",
   "execution_count": null,
   "metadata": {
    "pycharm": {
     "name": "#%%\n"
    }
   },
   "outputs": [],
   "source": [
    "## input AutoScore result from csv (implemented by R, detail: https://github.com/nliulab/AutoScore)\n",
    "AutoScore_pred = pd.read_csv((os.path.join(path, 'AutoScore_Hospitalization.csv')))\n",
    "df_test[\"AutoScore\"] = AutoScore_pred[\"pred_score\"]"
   ]
  },
  {
   "cell_type": "code",
   "execution_count": 20,
   "metadata": {
    "pycharm": {
     "name": "#%%\n"
    }
   },
   "outputs": [
    {
     "name": "stdout",
     "output_type": "stream",
     "text": [
      "AutoScore\n",
      "AUC: 0.7934874565329351\n",
      "AUPRC: 0.7562489562156791\n",
      "Sensitivity: 0.7215804453373514\n",
      "Specificity: 0.7209097168431018\n",
      "Score thresold: 45\n",
      "2.5 97.5\n"
     ]
    },
    {
     "data": {
      "image/png": "[encoded data removed]",
      "text/plain": [
       "<Figure size 432x288 with 1 Axes>"
      ]
     },
     "metadata": {
      "needs_background": "light"
     },
     "output_type": "display_data"
    },
    {
     "data": {
      "image/png": "[encoded data removed]",
      "text/plain": [
       "<Figure size 432x288 with 1 Axes>"
      ]
     },
     "metadata": {
      "needs_background": "light"
     },
     "output_type": "display_data"
    }
   ],
   "source": [
    "get_score_performance(\"AutoScore\", random_seed=random_seed) "
   ]
  },
  {
   "cell_type": "code",
   "execution_count": 22,
   "metadata": {
    "scrolled": false,
    "pycharm": {
     "name": "#%%\n"
    }
   },
   "outputs": [
    {
     "name": "stdout",
     "output_type": "stream",
     "text": [
      "score_NEWS\n",
      "AUC: 0.5830541413953252\n",
      "AUPRC: 0.5571178498926838\n",
      "Sensitivity: 0.5674207274563069\n",
      "Specificity: 0.5421901893287435\n",
      "Score thresold: 1\n",
      "2.5 97.5\n"
     ]
    },
    {
     "data": {
      "image/png": "[encoded data removed]",
      "text/plain": [
       "<Figure size 432x288 with 1 Axes>"
      ]
     },
     "metadata": {
      "needs_background": "light"
     },
     "output_type": "display_data"
    },
    {
     "data": {
      "image/png": "[encoded data removed]",
      "text/plain": [
       "<Figure size 432x288 with 1 Axes>"
      ]
     },
     "metadata": {
      "needs_background": "light"
     },
     "output_type": "display_data"
    }
   ],
   "source": [
    "get_score_performance(\"score_NEWS\", random_seed=random_seed)"
   ]
  },
  {
   "cell_type": "code",
   "execution_count": 23,
   "metadata": {
    "pycharm": {
     "name": "#%%\n"
    }
   },
   "outputs": [
    {
     "name": "stdout",
     "output_type": "stream",
     "text": [
      "score_NEWS2\n",
      "AUC: 0.5648640976938916\n",
      "AUPRC: 0.5388416890002937\n",
      "Sensitivity: 0.5206385075846816\n",
      "Specificity: 0.5654259896729776\n",
      "Score thresold: 1\n",
      "2.5 97.5\n"
     ]
    },
    {
     "data": {
      "image/png": "[encoded data removed]",
      "text/plain": [
       "<Figure size 432x288 with 1 Axes>"
      ]
     },
     "metadata": {
      "needs_background": "light"
     },
     "output_type": "display_data"
    },
    {
     "data": {
      "image/png": "[encoded data removed]",
      "text/plain": [
       "<Figure size 432x288 with 1 Axes>"
      ]
     },
     "metadata": {
      "needs_background": "light"
     },
     "output_type": "display_data"
    }
   ],
   "source": [
    "get_score_performance(\"score_NEWS2\", random_seed=random_seed)"
   ]
  },
  {
   "cell_type": "code",
   "execution_count": 24,
   "metadata": {
    "pycharm": {
     "name": "#%%\n"
    }
   },
   "outputs": [
    {
     "name": "stdout",
     "output_type": "stream",
     "text": [
      "score_REMS\n",
      "AUC: 0.6728548904853253\n",
      "AUPRC: 0.6076516125841411\n",
      "Sensitivity: 0.7179363896434839\n",
      "Specificity: 0.5599397590361446\n",
      "Score thresold: 3\n",
      "2.5 97.5\n"
     ]
    },
    {
     "data": {
      "image/png": "[encoded data removed]",
      "text/plain": [
       "<Figure size 432x288 with 1 Axes>"
      ]
     },
     "metadata": {
      "needs_background": "light"
     },
     "output_type": "display_data"
    },
    {
     "data": {
      "image/png": "[encoded data removed]",
      "text/plain": [
       "<Figure size 432x288 with 1 Axes>"
      ]
     },
     "metadata": {
      "needs_background": "light"
     },
     "output_type": "display_data"
    }
   ],
   "source": [
    "get_score_performance(\"score_REMS\", random_seed=random_seed)"
   ]
  },
  {
   "cell_type": "code",
   "execution_count": 25,
   "metadata": {
    "pycharm": {
     "name": "#%%\n"
    }
   },
   "outputs": [
    {
     "name": "stdout",
     "output_type": "stream",
     "text": [
      "score_MEWS\n",
      "AUC: 0.5591784089503674\n",
      "AUPRC: 0.522181469960859\n",
      "Sensitivity: 0.29982931461403467\n",
      "Specificity: 0.8102409638554217\n",
      "Score thresold: 2\n",
      "2.5 97.5\n"
     ]
    },
    {
     "data": {
      "image/png": "[encoded data removed]",
      "text/plain": [
       "<Figure size 432x288 with 1 Axes>"
      ]
     },
     "metadata": {
      "needs_background": "light"
     },
     "output_type": "display_data"
    },
    {
     "data": {
      "image/png": "[encoded data removed]",
      "text/plain": [
       "<Figure size 432x288 with 1 Axes>"
      ]
     },
     "metadata": {
      "needs_background": "light"
     },
     "output_type": "display_data"
    }
   ],
   "source": [
    "get_score_performance(\"score_MEWS\", random_seed=random_seed)"
   ]
  },
  {
   "cell_type": "code",
   "execution_count": 26,
   "metadata": {
    "pycharm": {
     "name": "#%%\n"
    }
   },
   "outputs": [
    {
     "name": "stdout",
     "output_type": "stream",
     "text": [
      "score_CART\n",
      "AUC: 0.6760314715222786\n",
      "AUPRC: 0.6197396946065172\n",
      "Sensitivity: 0.7044979205231147\n",
      "Specificity: 0.5839070567986231\n",
      "Score thresold: 4\n",
      "2.5 97.5\n"
     ]
    },
    {
     "data": {
      "image/png": "[encoded data removed]",
      "text/plain": [
       "<Figure size 432x288 with 1 Axes>"
      ]
     },
     "metadata": {
      "needs_background": "light"
     },
     "output_type": "display_data"
    },
    {
     "data": {
      "image/png": "[encoded data removed]",
      "text/plain": [
       "<Figure size 432x288 with 1 Axes>"
      ]
     },
     "metadata": {
      "needs_background": "light"
     },
     "output_type": "display_data"
    }
   ],
   "source": [
    "get_score_performance(\"score_CART\", random_seed=random_seed)"
   ]
  },
  {
   "cell_type": "code",
   "execution_count": 27,
   "metadata": {
    "pycharm": {
     "name": "#%%\n"
    }
   },
   "outputs": [],
   "source": [
    "import tensorflow.keras as keras\n",
    "from tensorflow.keras import optimizers, metrics, layers, Model\n",
    "from embedding import *\n",
    "# from importlib import reload\n",
    "# reload(embedding)"
   ]
  },
  {
   "cell_type": "code",
   "execution_count": 28,
   "metadata": {
    "pycharm": {
     "name": "#%%\n"
    }
   },
   "outputs": [
    {
     "name": "stdout",
     "output_type": "stream",
     "text": [
      "Med2Vec:\n"
     ]
    }
   ],
   "source": [
    "print(\"Med2Vec:\")\n",
    "version = 'v10'\n",
    "batch_size=200\n",
    "vocabulary = vocabulary_map[version]\n",
    "df_icd_encode = pd.read_csv(os.path.join(path, 'icd_list_dataset_'+version+'.csv'))\n",
    "df_train_embed = pd.merge(df_train, df_icd_encode[['stay_id', 'icd_encoded_list']], how='left', on='stay_id')\n",
    "df_test_embed = pd.merge(df_test, df_icd_encode[['stay_id', 'icd_encoded_list']], how='left', on='stay_id')\n",
    "\n",
    "train_gen, test_gen = setup_embedding_data(df_train_embed, df_test_embed, X_train, y_train, X_test, y_test, batch_size)\n"
   ]
  },
  {
   "cell_type": "code",
   "execution_count": 29,
   "metadata": {
    "scrolled": false,
    "pycharm": {
     "name": "#%%\n"
    }
   },
   "outputs": [
    {
     "name": "stdout",
     "output_type": "stream",
     "text": [
      "Model: \"embedding_model\"\n",
      "__________________________________________________________________________________________________\n",
      " Layer (type)                   Output Shape         Param #     Connected to                     \n",
      "==================================================================================================\n",
      " icd_input (InputLayer)         [(None, 15151)]      0           []                               \n",
      "                                                                                                  \n",
      " embedding (Embedding)          (None, 15151, 1024)  15515648    ['icd_input[0][0]']              \n",
      "                                                                                                  \n",
      " tf.math.reduce_sum (TFOpLambda  (None, 1024)        0           ['embedding[0][0]']              \n",
      " )                                                                                                \n",
      "                                                                                                  \n",
      " dense_3 (Dense)                (None, 256)          262400      ['tf.math.reduce_sum[0][0]']     \n",
      "                                                                                                  \n",
      " demograph_input (InputLayer)   [(None, 64)]         0           []                               \n",
      "                                                                                                  \n",
      " concatenate (Concatenate)      (None, 320)          0           ['dense_3[0][0]',                \n",
      "                                                                  'demograph_input[0][0]']        \n",
      "                                                                                                  \n",
      " dense_4 (Dense)                (None, 128)          41088       ['concatenate[0][0]']            \n",
      "                                                                                                  \n",
      " dense_5 (Dense)                (None, 50)           6450        ['dense_4[0][0]']                \n",
      "                                                                                                  \n",
      " dense_6 (Dense)                (None, 1)            51          ['dense_5[0][0]']                \n",
      "                                                                                                  \n",
      "==================================================================================================\n",
      "Total params: 15,825,637\n",
      "Trainable params: 15,825,637\n",
      "Non-trainable params: 0\n",
      "__________________________________________________________________________________________________\n",
      "Training time: 38227.245163440704 seconds\n",
      "INFO:tensorflow:Assets written to: embedding_hospitalization_v10/assets\n",
      "441/441 [==============================] - 11s 24ms/step\n",
      "AUC: 0.8151959188499832\n",
      "AUPRC: 0.7846038480834436\n",
      "Sensitivity: 0.7454143327643821\n",
      "Specificity: 0.7328098106712564\n",
      "Score thresold: 0.42042926\n",
      "2.5 97.5\n"
     ]
    },
    {
     "data": {
      "image/png": "[encoded data removed]",
      "text/plain": [
       "<Figure size 432x288 with 1 Axes>"
      ]
     },
     "metadata": {
      "needs_background": "light"
     },
     "output_type": "display_data"
    },
    {
     "data": {
      "image/png": "[encoded data removed]",
      "text/plain": [
       "<Figure size 432x288 with 1 Axes>"
      ]
     },
     "metadata": {
      "needs_background": "light"
     },
     "output_type": "display_data"
    }
   ],
   "source": [
    "# To train from scratch, set load_model to None\n",
    "load_model = None#\"embedding_hospitalization_\"+version \n",
    "save_model = \"embedding_hospitalization_\"+version\n",
    "\n",
    "if load_model:\n",
    "        model = keras.models.load_model(load_model)\n",
    "else:\n",
    "        model = create_embedding_model(vocabulary, len(variable))\n",
    "model.summary()\n",
    "model.compile(loss='binary_crossentropy', \n",
    "        optimizer=optimizers.Adam(learning_rate=0.001, decay=0.01), \n",
    "        metrics=['accuracy', 'AUC', {'aucpr': metrics.AUC(name='aucpr', curve='PR')}, \n",
    "                    'TruePositives', 'TrueNegatives', 'Precision', 'Recall'])\n",
    "runtime = 1063.299 # to be updated\n",
    "if not load_model:\n",
    "        start = time.time()\n",
    "        model.fit(train_gen, epochs=100, class_weight={1:ratio, 0:1}, verbose=0)\n",
    "        runtime = time.time()-start\n",
    "        print('Training time:', runtime, 'seconds')\n",
    "if save_model:\n",
    "        keras.models.save_model(model, save_model)\n",
    "output = model.predict(test_gen)\n",
    "result = PlotROCCurve(output,y_test, ci=confidence_interval, random_seed=random_seed)\n",
    "\n",
    "results = [\"Med2Vec\"]\n",
    "results.extend(result)\n",
    "results.append(runtime)\n",
    "result_list.append(results)"
   ]
  },
  {
   "cell_type": "markdown",
   "metadata": {
    "pycharm": {
     "name": "#%% md\n"
    }
   },
   "source": [
    "### 4. Performance output"
   ]
  },
  {
   "cell_type": "code",
   "execution_count": 29,
   "metadata": {
    "pycharm": {
     "name": "#%%\n"
    }
   },
   "outputs": [
    {
     "data": {
      "text/html": [
       "<div>\n",
       "<style scoped>\n",
       "    .dataframe tbody tr th:only-of-type {\n",
       "        vertical-align: middle;\n",
       "    }\n",
       "\n",
       "    .dataframe tbody tr th {\n",
       "        vertical-align: top;\n",
       "    }\n",
       "\n",
       "    .dataframe thead th {\n",
       "        text-align: right;\n",
       "    }\n",
       "</style>\n",
       "<table border=\"1\" class=\"dataframe\">\n",
       "  <thead>\n",
       "    <tr style=\"text-align: right;\">\n",
       "      <th></th>\n",
       "      <th>Model</th>\n",
       "      <th>Threshold</th>\n",
       "      <th>AUROC</th>\n",
       "      <th>AUPRC</th>\n",
       "      <th>Sensitivity</th>\n",
       "      <th>Specificity</th>\n",
       "      <th>Runtime</th>\n",
       "    </tr>\n",
       "  </thead>\n",
       "  <tbody>\n",
       "    <tr>\n",
       "      <th>0</th>\n",
       "      <td>LR</td>\n",
       "      <td>0.446</td>\n",
       "      <td>0.806 (0.803-0.809)</td>\n",
       "      <td>0.77 (0.765-0.775)</td>\n",
       "      <td>0.747 (0.722-0.749)</td>\n",
       "      <td>0.721 (0.719-0.745)</td>\n",
       "      <td>3.715</td>\n",
       "    </tr>\n",
       "    <tr>\n",
       "      <th>1</th>\n",
       "      <td>RF</td>\n",
       "      <td>0.490</td>\n",
       "      <td>0.819 (0.819-0.822)</td>\n",
       "      <td>0.787 (0.785-0.79)</td>\n",
       "      <td>0.754 (0.742-0.767)</td>\n",
       "      <td>0.734 (0.724-0.747)</td>\n",
       "      <td>57.910</td>\n",
       "    </tr>\n",
       "    <tr>\n",
       "      <th>2</th>\n",
       "      <td>GB</td>\n",
       "      <td>0.474</td>\n",
       "      <td>0.819 (0.817-0.822)</td>\n",
       "      <td>0.793 (0.79-0.797)</td>\n",
       "      <td>0.754 (0.736-0.759)</td>\n",
       "      <td>0.729 (0.727-0.752)</td>\n",
       "      <td>60.027</td>\n",
       "    </tr>\n",
       "    <tr>\n",
       "      <th>3</th>\n",
       "      <td>MLP</td>\n",
       "      <td>0.457</td>\n",
       "      <td>0.822 (0.821-0.825)</td>\n",
       "      <td>0.796 (0.793-0.8)</td>\n",
       "      <td>0.757 (0.745-0.767)</td>\n",
       "      <td>0.734 (0.724-0.746)</td>\n",
       "      <td>171.052</td>\n",
       "    </tr>\n",
       "    <tr>\n",
       "      <th>4</th>\n",
       "      <td>esi</td>\n",
       "      <td>-2.000</td>\n",
       "      <td>0.711 (0.709-0.714)</td>\n",
       "      <td>0.632 (0.628-0.636)</td>\n",
       "      <td>0.582 (0.578-0.586)</td>\n",
       "      <td>0.784 (0.781-0.787)</td>\n",
       "      <td>0.000</td>\n",
       "    </tr>\n",
       "    <tr>\n",
       "      <th>5</th>\n",
       "      <td>AutoScore</td>\n",
       "      <td>45.000</td>\n",
       "      <td>0.793 (0.791-0.797)</td>\n",
       "      <td>0.756 (0.753-0.76)</td>\n",
       "      <td>0.722 (0.717-0.749)</td>\n",
       "      <td>0.721 (0.698-0.725)</td>\n",
       "      <td>0.000</td>\n",
       "    </tr>\n",
       "    <tr>\n",
       "      <th>6</th>\n",
       "      <td>score_NEWS</td>\n",
       "      <td>1.000</td>\n",
       "      <td>0.581 (0.579-0.584)</td>\n",
       "      <td>0.555 (0.552-0.559)</td>\n",
       "      <td>0.565 (0.561-0.57)</td>\n",
       "      <td>0.54 (0.537-0.544)</td>\n",
       "      <td>0.000</td>\n",
       "    </tr>\n",
       "    <tr>\n",
       "      <th>7</th>\n",
       "      <td>score_NEWS2</td>\n",
       "      <td>1.000</td>\n",
       "      <td>0.563 (0.56-0.566)</td>\n",
       "      <td>0.538 (0.534-0.541)</td>\n",
       "      <td>0.519 (0.514-0.522)</td>\n",
       "      <td>0.563 (0.559-0.567)</td>\n",
       "      <td>0.000</td>\n",
       "    </tr>\n",
       "    <tr>\n",
       "      <th>8</th>\n",
       "      <td>score_REMS</td>\n",
       "      <td>3.000</td>\n",
       "      <td>0.672 (0.669-0.675)</td>\n",
       "      <td>0.61 (0.605-0.613)</td>\n",
       "      <td>0.714 (0.709-0.716)</td>\n",
       "      <td>0.564 (0.559-0.568)</td>\n",
       "      <td>0.000</td>\n",
       "    </tr>\n",
       "    <tr>\n",
       "      <th>9</th>\n",
       "      <td>score_MEWS</td>\n",
       "      <td>2.000</td>\n",
       "      <td>0.559 (0.557-0.562)</td>\n",
       "      <td>0.522 (0.518-0.526)</td>\n",
       "      <td>0.3 (0.296-0.302)</td>\n",
       "      <td>0.81 (0.808-0.813)</td>\n",
       "      <td>0.000</td>\n",
       "    </tr>\n",
       "    <tr>\n",
       "      <th>10</th>\n",
       "      <td>score_CART</td>\n",
       "      <td>4.000</td>\n",
       "      <td>0.675 (0.673-0.678)</td>\n",
       "      <td>0.618 (0.615-0.622)</td>\n",
       "      <td>0.702 (0.698-0.706)</td>\n",
       "      <td>0.586 (0.582-0.592)</td>\n",
       "      <td>0.000</td>\n",
       "    </tr>\n",
       "    <tr>\n",
       "      <th>11</th>\n",
       "      <td>Med2Vec</td>\n",
       "      <td>0.431</td>\n",
       "      <td>0.813 (0.812-0.816)</td>\n",
       "      <td>0.782 (0.778-0.785)</td>\n",
       "      <td>0.744 (0.738-0.748)</td>\n",
       "      <td>0.731 (0.728-0.739)</td>\n",
       "      <td>1043.963</td>\n",
       "    </tr>\n",
       "  </tbody>\n",
       "</table>\n",
       "</div>"
      ],
      "text/plain": [
       "          Model  Threshold                AUROC                AUPRC  \\\n",
       "0            LR      0.446  0.806 (0.803-0.809)   0.77 (0.765-0.775)   \n",
       "1            RF      0.490  0.819 (0.819-0.822)   0.787 (0.785-0.79)   \n",
       "2            GB      0.474  0.819 (0.817-0.822)   0.793 (0.79-0.797)   \n",
       "3           MLP      0.457  0.822 (0.821-0.825)    0.796 (0.793-0.8)   \n",
       "4           esi     -2.000  0.711 (0.709-0.714)  0.632 (0.628-0.636)   \n",
       "5     AutoScore     45.000  0.793 (0.791-0.797)   0.756 (0.753-0.76)   \n",
       "6    score_NEWS      1.000  0.581 (0.579-0.584)  0.555 (0.552-0.559)   \n",
       "7   score_NEWS2      1.000   0.563 (0.56-0.566)  0.538 (0.534-0.541)   \n",
       "8    score_REMS      3.000  0.672 (0.669-0.675)   0.61 (0.605-0.613)   \n",
       "9    score_MEWS      2.000  0.559 (0.557-0.562)  0.522 (0.518-0.526)   \n",
       "10   score_CART      4.000  0.675 (0.673-0.678)  0.618 (0.615-0.622)   \n",
       "11      Med2Vec      0.431  0.813 (0.812-0.816)  0.782 (0.778-0.785)   \n",
       "\n",
       "            Sensitivity          Specificity   Runtime  \n",
       "0   0.747 (0.722-0.749)  0.721 (0.719-0.745)     3.715  \n",
       "1   0.754 (0.742-0.767)  0.734 (0.724-0.747)    57.910  \n",
       "2   0.754 (0.736-0.759)  0.729 (0.727-0.752)    60.027  \n",
       "3   0.757 (0.745-0.767)  0.734 (0.724-0.746)   171.052  \n",
       "4   0.582 (0.578-0.586)  0.784 (0.781-0.787)     0.000  \n",
       "5   0.722 (0.717-0.749)  0.721 (0.698-0.725)     0.000  \n",
       "6    0.565 (0.561-0.57)   0.54 (0.537-0.544)     0.000  \n",
       "7   0.519 (0.514-0.522)  0.563 (0.559-0.567)     0.000  \n",
       "8   0.714 (0.709-0.716)  0.564 (0.559-0.568)     0.000  \n",
       "9     0.3 (0.296-0.302)   0.81 (0.808-0.813)     0.000  \n",
       "10  0.702 (0.698-0.706)  0.586 (0.582-0.592)     0.000  \n",
       "11  0.744 (0.738-0.748)  0.731 (0.728-0.739)  1043.963  "
      ]
     },
     "execution_count": 29,
     "metadata": {},
     "output_type": "execute_result"
    }
   ],
   "source": [
    "result_df = pd.DataFrame(result_list, columns=['Model', 'auroc', 'ap', 'sensitivity', 'specificity', 'threshold', \n",
    "                                               'lower_auroc', 'upper_auroc', 'std_auroc', 'lower_ap', 'upper_ap', \n",
    "                                               'std_ap', 'lower_sensitivity', 'upper_sensitivity', 'std_sensitivity',\n",
    "                                               'lower_specificity', 'upper_specificity', 'std_specificity', 'runtime'])\n",
    "result_df.to_csv(os.path.join(path, 'result_hospitalization_triage.csv'), index=False)\n",
    "\n",
    "result_df = result_df.round(3)\n",
    "formatted_result_df = pd.DataFrame()\n",
    "formatted_result_df[['Model', 'Threshold']] = result_df[['Model', 'threshold']]\n",
    "formatted_result_df['AUROC'] = result_df['auroc'].astype(str) + ' (' + result_df['lower_auroc'].astype(str) + \\\n",
    "                               '-' + result_df['upper_auroc'].astype(str) + ')'\n",
    "formatted_result_df['AUPRC'] = result_df['ap'].astype(str) + ' (' + result_df['lower_ap'].astype(str) + \\\n",
    "                               '-' + result_df['upper_ap'].astype(str) + ')'\n",
    "formatted_result_df['Sensitivity'] = result_df['sensitivity'].astype(str) + ' (' + result_df['lower_sensitivity'].astype(str) + \\\n",
    "                                     '-' + result_df['upper_sensitivity'].astype(str) + ')'\n",
    "formatted_result_df['Specificity'] = result_df['specificity'].astype(str) + ' (' + result_df['lower_specificity'].astype(str) + \\\n",
    "                                     '-' + result_df['upper_specificity'].astype(str) + ')'\n",
    "formatted_result_df[['Runtime']] = result_df[['runtime']]\n",
    "formatted_result_df.to_csv(os.path.join(path, 'task1.csv'), index=False)\n",
    "formatted_result_df"
   ]
  },
  {
   "cell_type": "code",
   "execution_count": 30,
   "metadata": {
    "pycharm": {
     "name": "#%%\n"
    }
   },
   "outputs": [
    {
     "data": {
      "image/png": "[encoded data removed]",
      "text/plain": [
       "<Figure size 432x288 with 1 Axes>"
      ]
     },
     "metadata": {
      "needs_background": "light"
     },
     "output_type": "display_data"
    }
   ],
   "source": [
    "from helpers import plot_confidence_interval\n",
    "plot_confidence_interval(result_df, metric='auroc', ci=confidence_interval, name = \"AUROC\", \n",
    "                         my_file = 'AUROC_hosp.eps', my_path = output_path) "
   ]
  },
  {
   "cell_type": "code",
   "execution_count": 31,
   "metadata": {
    "pycharm": {
     "name": "#%%\n"
    }
   },
   "outputs": [
    {
     "data": {
      "image/png": "[encoded data removed]",
      "text/plain": [
       "<Figure size 432x288 with 1 Axes>"
      ]
     },
     "metadata": {
      "needs_background": "light"
     },
     "output_type": "display_data"
    }
   ],
   "source": [
    "plot_confidence_interval(result_df, metric='ap', ci=confidence_interval, name = \"AUPRC\", \n",
    "                         my_file = 'AUPRC_hosp.eps', my_path = output_path)"
   ]
  },
  {
   "cell_type": "code",
   "execution_count": 32,
   "metadata": {
    "pycharm": {
     "name": "#%%\n"
    }
   },
   "outputs": [
    {
     "data": {
      "text/html": [
       "<div>\n",
       "<style scoped>\n",
       "    .dataframe tbody tr th:only-of-type {\n",
       "        vertical-align: middle;\n",
       "    }\n",
       "\n",
       "    .dataframe tbody tr th {\n",
       "        vertical-align: top;\n",
       "    }\n",
       "\n",
       "    .dataframe thead th {\n",
       "        text-align: right;\n",
       "    }\n",
       "</style>\n",
       "<table border=\"1\" class=\"dataframe\">\n",
       "  <thead>\n",
       "    <tr style=\"text-align: right;\">\n",
       "      <th></th>\n",
       "      <th>Variable</th>\n",
       "      <th>Importance</th>\n",
       "    </tr>\n",
       "  </thead>\n",
       "  <tbody>\n",
       "    <tr>\n",
       "      <th>0</th>\n",
       "      <td>age</td>\n",
       "      <td>0.126553</td>\n",
       "    </tr>\n",
       "    <tr>\n",
       "      <th>18</th>\n",
       "      <td>triage_acuity</td>\n",
       "      <td>0.111814</td>\n",
       "    </tr>\n",
       "    <tr>\n",
       "      <th>15</th>\n",
       "      <td>triage_sbp</td>\n",
       "      <td>0.087156</td>\n",
       "    </tr>\n",
       "    <tr>\n",
       "      <th>12</th>\n",
       "      <td>triage_heartrate</td>\n",
       "      <td>0.085326</td>\n",
       "    </tr>\n",
       "    <tr>\n",
       "      <th>16</th>\n",
       "      <td>triage_dbp</td>\n",
       "      <td>0.082793</td>\n",
       "    </tr>\n",
       "    <tr>\n",
       "      <th>11</th>\n",
       "      <td>triage_temperature</td>\n",
       "      <td>0.078387</td>\n",
       "    </tr>\n",
       "    <tr>\n",
       "      <th>17</th>\n",
       "      <td>triage_pain</td>\n",
       "      <td>0.046876</td>\n",
       "    </tr>\n",
       "    <tr>\n",
       "      <th>14</th>\n",
       "      <td>triage_o2sat</td>\n",
       "      <td>0.042483</td>\n",
       "    </tr>\n",
       "    <tr>\n",
       "      <th>13</th>\n",
       "      <td>triage_resprate</td>\n",
       "      <td>0.040160</td>\n",
       "    </tr>\n",
       "    <tr>\n",
       "      <th>7</th>\n",
       "      <td>n_hosp_365d</td>\n",
       "      <td>0.027609</td>\n",
       "    </tr>\n",
       "    <tr>\n",
       "      <th>4</th>\n",
       "      <td>n_ed_365d</td>\n",
       "      <td>0.022469</td>\n",
       "    </tr>\n",
       "    <tr>\n",
       "      <th>6</th>\n",
       "      <td>n_hosp_90d</td>\n",
       "      <td>0.015498</td>\n",
       "    </tr>\n",
       "    <tr>\n",
       "      <th>1</th>\n",
       "      <td>gender</td>\n",
       "      <td>0.012877</td>\n",
       "    </tr>\n",
       "    <tr>\n",
       "      <th>57</th>\n",
       "      <td>eci_FluidsLytes</td>\n",
       "      <td>0.012308</td>\n",
       "    </tr>\n",
       "    <tr>\n",
       "      <th>3</th>\n",
       "      <td>n_ed_90d</td>\n",
       "      <td>0.011377</td>\n",
       "    </tr>\n",
       "    <tr>\n",
       "      <th>50</th>\n",
       "      <td>eci_HTN2</td>\n",
       "      <td>0.010871</td>\n",
       "    </tr>\n",
       "    <tr>\n",
       "      <th>20</th>\n",
       "      <td>chiefcom_abdominal_pain</td>\n",
       "      <td>0.008894</td>\n",
       "    </tr>\n",
       "    <tr>\n",
       "      <th>46</th>\n",
       "      <td>eci_Arrhythmia</td>\n",
       "      <td>0.008497</td>\n",
       "    </tr>\n",
       "    <tr>\n",
       "      <th>63</th>\n",
       "      <td>eci_Depression</td>\n",
       "      <td>0.007663</td>\n",
       "    </tr>\n",
       "    <tr>\n",
       "      <th>2</th>\n",
       "      <td>n_ed_30d</td>\n",
       "      <td>0.007594</td>\n",
       "    </tr>\n",
       "    <tr>\n",
       "      <th>19</th>\n",
       "      <td>chiefcom_chest_pain</td>\n",
       "      <td>0.006960</td>\n",
       "    </tr>\n",
       "    <tr>\n",
       "      <th>34</th>\n",
       "      <td>cci_Pulmonary</td>\n",
       "      <td>0.006251</td>\n",
       "    </tr>\n",
       "    <tr>\n",
       "      <th>5</th>\n",
       "      <td>n_hosp_30d</td>\n",
       "      <td>0.006080</td>\n",
       "    </tr>\n",
       "    <tr>\n",
       "      <th>38</th>\n",
       "      <td>cci_DM1</td>\n",
       "      <td>0.005984</td>\n",
       "    </tr>\n",
       "    <tr>\n",
       "      <th>41</th>\n",
       "      <td>cci_Renal</td>\n",
       "      <td>0.005766</td>\n",
       "    </tr>\n",
       "    <tr>\n",
       "      <th>30</th>\n",
       "      <td>cci_CHF</td>\n",
       "      <td>0.005551</td>\n",
       "    </tr>\n",
       "    <tr>\n",
       "      <th>10</th>\n",
       "      <td>n_icu_365d</td>\n",
       "      <td>0.005102</td>\n",
       "    </tr>\n",
       "    <tr>\n",
       "      <th>21</th>\n",
       "      <td>chiefcom_headache</td>\n",
       "      <td>0.005071</td>\n",
       "    </tr>\n",
       "    <tr>\n",
       "      <th>60</th>\n",
       "      <td>eci_Alcohol</td>\n",
       "      <td>0.004965</td>\n",
       "    </tr>\n",
       "    <tr>\n",
       "      <th>55</th>\n",
       "      <td>eci_Obesity</td>\n",
       "      <td>0.004806</td>\n",
       "    </tr>\n",
       "    <tr>\n",
       "      <th>49</th>\n",
       "      <td>eci_HTN1</td>\n",
       "      <td>0.004761</td>\n",
       "    </tr>\n",
       "    <tr>\n",
       "      <th>51</th>\n",
       "      <td>eci_NeuroOther</td>\n",
       "      <td>0.004478</td>\n",
       "    </tr>\n",
       "    <tr>\n",
       "      <th>26</th>\n",
       "      <td>chiefcom_fever_chills</td>\n",
       "      <td>0.004346</td>\n",
       "    </tr>\n",
       "    <tr>\n",
       "      <th>42</th>\n",
       "      <td>cci_Cancer1</td>\n",
       "      <td>0.004339</td>\n",
       "    </tr>\n",
       "    <tr>\n",
       "      <th>52</th>\n",
       "      <td>eci_Hypothyroid</td>\n",
       "      <td>0.004308</td>\n",
       "    </tr>\n",
       "    <tr>\n",
       "      <th>23</th>\n",
       "      <td>chiefcom_back_pain</td>\n",
       "      <td>0.004190</td>\n",
       "    </tr>\n",
       "    <tr>\n",
       "      <th>28</th>\n",
       "      <td>chiefcom_dizziness</td>\n",
       "      <td>0.004139</td>\n",
       "    </tr>\n",
       "    <tr>\n",
       "      <th>61</th>\n",
       "      <td>eci_Drugs</td>\n",
       "      <td>0.004115</td>\n",
       "    </tr>\n",
       "    <tr>\n",
       "      <th>37</th>\n",
       "      <td>cci_Liver1</td>\n",
       "      <td>0.003828</td>\n",
       "    </tr>\n",
       "    <tr>\n",
       "      <th>25</th>\n",
       "      <td>chiefcom_nausea_vomiting</td>\n",
       "      <td>0.003815</td>\n",
       "    </tr>\n",
       "    <tr>\n",
       "      <th>54</th>\n",
       "      <td>eci_Coagulopathy</td>\n",
       "      <td>0.003729</td>\n",
       "    </tr>\n",
       "    <tr>\n",
       "      <th>27</th>\n",
       "      <td>chiefcom_syncope</td>\n",
       "      <td>0.003494</td>\n",
       "    </tr>\n",
       "    <tr>\n",
       "      <th>29</th>\n",
       "      <td>cci_MI</td>\n",
       "      <td>0.003459</td>\n",
       "    </tr>\n",
       "    <tr>\n",
       "      <th>39</th>\n",
       "      <td>cci_DM2</td>\n",
       "      <td>0.003414</td>\n",
       "    </tr>\n",
       "    <tr>\n",
       "      <th>56</th>\n",
       "      <td>eci_WeightLoss</td>\n",
       "      <td>0.003405</td>\n",
       "    </tr>\n",
       "    <tr>\n",
       "      <th>59</th>\n",
       "      <td>eci_Anemia</td>\n",
       "      <td>0.003399</td>\n",
       "    </tr>\n",
       "    <tr>\n",
       "      <th>32</th>\n",
       "      <td>cci_Stroke</td>\n",
       "      <td>0.003027</td>\n",
       "    </tr>\n",
       "    <tr>\n",
       "      <th>31</th>\n",
       "      <td>cci_PVD</td>\n",
       "      <td>0.002969</td>\n",
       "    </tr>\n",
       "    <tr>\n",
       "      <th>62</th>\n",
       "      <td>eci_Psychoses</td>\n",
       "      <td>0.002849</td>\n",
       "    </tr>\n",
       "    <tr>\n",
       "      <th>47</th>\n",
       "      <td>eci_Valvular</td>\n",
       "      <td>0.002818</td>\n",
       "    </tr>\n",
       "    <tr>\n",
       "      <th>24</th>\n",
       "      <td>chiefcom_cough</td>\n",
       "      <td>0.002749</td>\n",
       "    </tr>\n",
       "    <tr>\n",
       "      <th>48</th>\n",
       "      <td>eci_PHTN</td>\n",
       "      <td>0.002573</td>\n",
       "    </tr>\n",
       "    <tr>\n",
       "      <th>35</th>\n",
       "      <td>cci_Rheumatic</td>\n",
       "      <td>0.002160</td>\n",
       "    </tr>\n",
       "    <tr>\n",
       "      <th>44</th>\n",
       "      <td>cci_Cancer2</td>\n",
       "      <td>0.002051</td>\n",
       "    </tr>\n",
       "    <tr>\n",
       "      <th>9</th>\n",
       "      <td>n_icu_90d</td>\n",
       "      <td>0.001724</td>\n",
       "    </tr>\n",
       "    <tr>\n",
       "      <th>36</th>\n",
       "      <td>cci_PUD</td>\n",
       "      <td>0.001544</td>\n",
       "    </tr>\n",
       "    <tr>\n",
       "      <th>43</th>\n",
       "      <td>cci_Liver2</td>\n",
       "      <td>0.001434</td>\n",
       "    </tr>\n",
       "    <tr>\n",
       "      <th>33</th>\n",
       "      <td>cci_Dementia</td>\n",
       "      <td>0.001420</td>\n",
       "    </tr>\n",
       "    <tr>\n",
       "      <th>40</th>\n",
       "      <td>cci_Paralysis</td>\n",
       "      <td>0.001215</td>\n",
       "    </tr>\n",
       "    <tr>\n",
       "      <th>58</th>\n",
       "      <td>eci_BloodLoss</td>\n",
       "      <td>0.001165</td>\n",
       "    </tr>\n",
       "    <tr>\n",
       "      <th>45</th>\n",
       "      <td>cci_HIV</td>\n",
       "      <td>0.001080</td>\n",
       "    </tr>\n",
       "    <tr>\n",
       "      <th>53</th>\n",
       "      <td>eci_Lymphoma</td>\n",
       "      <td>0.000968</td>\n",
       "    </tr>\n",
       "    <tr>\n",
       "      <th>8</th>\n",
       "      <td>n_icu_30d</td>\n",
       "      <td>0.000769</td>\n",
       "    </tr>\n",
       "    <tr>\n",
       "      <th>22</th>\n",
       "      <td>chiefcom_shortness_of_breath</td>\n",
       "      <td>0.000528</td>\n",
       "    </tr>\n",
       "  </tbody>\n",
       "</table>\n",
       "</div>"
      ],
      "text/plain": [
       "                        Variable  Importance\n",
       "0                            age    0.126553\n",
       "18                 triage_acuity    0.111814\n",
       "15                    triage_sbp    0.087156\n",
       "12              triage_heartrate    0.085326\n",
       "16                    triage_dbp    0.082793\n",
       "11            triage_temperature    0.078387\n",
       "17                   triage_pain    0.046876\n",
       "14                  triage_o2sat    0.042483\n",
       "13               triage_resprate    0.040160\n",
       "7                    n_hosp_365d    0.027609\n",
       "4                      n_ed_365d    0.022469\n",
       "6                     n_hosp_90d    0.015498\n",
       "1                         gender    0.012877\n",
       "57               eci_FluidsLytes    0.012308\n",
       "3                       n_ed_90d    0.011377\n",
       "50                      eci_HTN2    0.010871\n",
       "20       chiefcom_abdominal_pain    0.008894\n",
       "46                eci_Arrhythmia    0.008497\n",
       "63                eci_Depression    0.007663\n",
       "2                       n_ed_30d    0.007594\n",
       "19           chiefcom_chest_pain    0.006960\n",
       "34                 cci_Pulmonary    0.006251\n",
       "5                     n_hosp_30d    0.006080\n",
       "38                       cci_DM1    0.005984\n",
       "41                     cci_Renal    0.005766\n",
       "30                       cci_CHF    0.005551\n",
       "10                    n_icu_365d    0.005102\n",
       "21             chiefcom_headache    0.005071\n",
       "60                   eci_Alcohol    0.004965\n",
       "55                   eci_Obesity    0.004806\n",
       "49                      eci_HTN1    0.004761\n",
       "51                eci_NeuroOther    0.004478\n",
       "26         chiefcom_fever_chills    0.004346\n",
       "42                   cci_Cancer1    0.004339\n",
       "52               eci_Hypothyroid    0.004308\n",
       "23            chiefcom_back_pain    0.004190\n",
       "28            chiefcom_dizziness    0.004139\n",
       "61                     eci_Drugs    0.004115\n",
       "37                    cci_Liver1    0.003828\n",
       "25      chiefcom_nausea_vomiting    0.003815\n",
       "54              eci_Coagulopathy    0.003729\n",
       "27              chiefcom_syncope    0.003494\n",
       "29                        cci_MI    0.003459\n",
       "39                       cci_DM2    0.003414\n",
       "56                eci_WeightLoss    0.003405\n",
       "59                    eci_Anemia    0.003399\n",
       "32                    cci_Stroke    0.003027\n",
       "31                       cci_PVD    0.002969\n",
       "62                 eci_Psychoses    0.002849\n",
       "47                  eci_Valvular    0.002818\n",
       "24                chiefcom_cough    0.002749\n",
       "48                      eci_PHTN    0.002573\n",
       "35                 cci_Rheumatic    0.002160\n",
       "44                   cci_Cancer2    0.002051\n",
       "9                      n_icu_90d    0.001724\n",
       "36                       cci_PUD    0.001544\n",
       "43                    cci_Liver2    0.001434\n",
       "33                  cci_Dementia    0.001420\n",
       "40                 cci_Paralysis    0.001215\n",
       "58                 eci_BloodLoss    0.001165\n",
       "45                       cci_HIV    0.001080\n",
       "53                  eci_Lymphoma    0.000968\n",
       "8                      n_icu_30d    0.000769\n",
       "22  chiefcom_shortness_of_breath    0.000528"
      ]
     },
     "execution_count": 32,
     "metadata": {},
     "output_type": "execute_result"
    }
   ],
   "source": [
    "importance_df = pd.DataFrame(zip(variable, importances), columns=['Variable','Importance'])\n",
    "importance_df.to_csv(os.path.join(path, 'importances_hospitalization_triage.csv'))\n",
    "importance_df.sort_values(by='Importance', axis=0,ascending=False)"
   ]
  },
  {
   "cell_type": "code",
   "execution_count": null,
   "metadata": {
    "pycharm": {
     "name": "#%%\n"
    }
   },
   "outputs": [],
   "source": []
  }
 ],
 "metadata": {
  "kernelspec": {
   "display_name": "mimic-py39",
   "language": "python",
   "name": "mimic-py39"
  },
  "language_info": {
   "codemirror_mode": {
    "name": "ipython",
    "version": 3
   },
   "file_extension": ".py",
   "mimetype": "text/x-python",
   "name": "python",
   "nbconvert_exporter": "python",
   "pygments_lexer": "ipython3",
   "version": "3.8.8"
  },
  "vscode": {
   "interpreter": {
    "hash": "bf17866d38f1d3bf6d821890074c0baa70450c3b4f92ba8a3f997b0030e3ab03"
   }
  }
 },
 "nbformat": 4,
 "nbformat_minor": 4
}