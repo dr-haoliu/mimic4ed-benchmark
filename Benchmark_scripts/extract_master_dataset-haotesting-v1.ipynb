{
 "cells": [
  {
   "cell_type": "markdown",
   "metadata": {
    "pycharm": {
     "name": "#%% md\n"
    }
   },
   "source": [
    "# Construct Master Dataset by linking different tables in MIMIC-IV-ED\n",
    "\n",
    "Note:  MIMIC-ED should be downloaded at “data/ed\" folder\n"
   ]
  },
  {
   "cell_type": "markdown",
   "metadata": {
    "pycharm": {
     "name": "#%% md\n"
    }
   },
   "source": [
    "## Prepare Python library and raw data"
   ]
  },
  {
   "cell_type": "code",
   "execution_count": 1,
   "metadata": {
    "pycharm": {
     "name": "#%%\n"
    }
   },
   "outputs": [],
   "source": [
    "import argparse\n",
    "from helpers import *\n",
    "from medcode_utils import commorbidity, extract_icd_list"
   ]
  },
  {
   "cell_type": "code",
   "execution_count": 2,
   "metadata": {
    "pycharm": {
     "name": "#%%\n"
    }
   },
   "outputs": [
    {
     "name": "stdout",
     "output_type": "stream",
     "text": [
      "data_general_processing.ipynb\r\n",
      "data_general_processing.py\r\n",
      "dataset_path.py\r\n",
      "embedding_critical_v10\r\n",
      "embedding_hospitalization_v10\r\n",
      "embedding.py\r\n",
      "embedding_revisit_v10\r\n",
      "extract_icd.ipynb\r\n",
      "extract_master_dataset-haotesting-v1.ipynb\r\n",
      "extract_master_dataset.ipynb\r\n",
      "extract_master_dataset.py\r\n",
      "helpers.py\r\n",
      "hospitalization_triage_mlp\r\n",
      "medcodes\r\n",
      "medcode_utils.py\r\n",
      "__pycache__\r\n",
      "Task_1_Model_hospitalization_triage.ipynb\r\n",
      "Task_2_Model_critical_triage.ipynb\r\n",
      "Task_3_Model_72h_ed_revisit_disposition.ipynb\r\n",
      "Task_4_Appendix_Model_critical_triage_disposition.ipynb\r\n",
      "utils.py\r\n"
     ]
    }
   ],
   "source": [
    "!ls"
   ]
  },
  {
   "cell_type": "code",
   "execution_count": 5,
   "metadata": {
    "pycharm": {
     "name": "#%%\n"
    }
   },
   "outputs": [
    {
     "name": "stdout",
     "output_type": "stream",
     "text": [
      "/home/wenglab/projects/mimic_iv/mimic4ed-benchmark/Benchmark_scripts\r\n"
     ]
    }
   ],
   "source": [
    "!pwd"
   ]
  },
  {
   "cell_type": "code",
   "execution_count": 4,
   "metadata": {
    "pycharm": {
     "name": "#%%\n"
    }
   },
   "outputs": [
    {
     "name": "stdout",
     "output_type": "stream",
     "text": [
      "core  ed  hosp\ticu  note.txt\r\n"
     ]
    }
   ],
   "source": [
    "!ls /home/wenglab/projects/mimic_iv/mimic4ed-benchmark/data"
   ]
  },
  {
   "cell_type": "code",
   "execution_count": 6,
   "metadata": {
    "pycharm": {
     "name": "#%%\n"
    }
   },
   "outputs": [],
   "source": [
    "# from dataset_path import mimic_iv_path, output_path\n",
    "\n",
    "mimic_iv_path = '/home/wenglab/projects/mimic_iv/mimic4ed-benchmark/data'\n",
    "output_path = '/home/wenglab/projects/mimic_iv/mimic4ed-benchmark/output/'"
   ]
  },
  {
   "cell_type": "code",
   "execution_count": 3,
   "metadata": {
    "pycharm": {
     "name": "#%%\n"
    }
   },
   "outputs": [],
   "source": [
    "## Defining auxillary parameters\n",
    "## Assume that \"ed\" directory placed under \"mimic_iv_path\"\n",
    "\n",
    "mimic_iv_core_path = os.path.join(mimic_iv_path, 'core')\n",
    "mimic_iv_hosp_path = os.path.join(mimic_iv_path , 'hosp')   \n",
    "mimic_iv_icu_path = os.path.join(mimic_iv_path, 'icu')\n",
    "mimic_iv_ed_path = os.path.join(mimic_iv_path, 'ed')\n",
    "\n",
    "icu_filename_dict = {\"chartevents\":\"chartevents.csv\",\"datetimeevents\":\"datetimeevents.csv\",\"d_items\":\"d_items.csv\",\"icustays\":\"icustays.csv\",\"inputevents\":\"inputevents.csv\",\"outputevents\":\"outputevents.csv\",\"procedureevents\":\"procedureevents.csv\"}\n",
    "core_filename_dict = {\"patients\":\"patients.csv\", \"admissions\":\"admissions.csv\", \"transfers\":\"transfers.csv\"}\n",
    "hosp_filename_dict = {\"d_hcpcs\":\"d_hcpcs.csv\",\"d_icd_diagnoses\":\"d_icd_diagnoses.csv\",\"d_labitems\":\"d_labitems.csv\",\"emar\":\"emar.csv\",\"hcpcsevents\":\"hcpcsevents.csv\",\"microbiologyevents\":\"microbiologyevents.csv\",\"poe\":\"poe.csv\",\"prescriptions\":\"prescriptions.csv\",\"services\":\"services.csv\",\"diagnoses_icd\":\"diagnoses_icd.csv\",\"d_icd_procedures\":\"d_icd_procedures.csv\",\"drgcodes\":\"drgcodes.csv\",\"emar_detail\":\"emar_detail.csv\",\"labevents\":\"labevents.csv\",\"pharmacy\":\"pharmacy.csv\",\"poe_detail\":\"poe_detail.csv\",\"procedures_icd\":\"procedures_icd.csv\"}\n",
    "ed_filename_dict = {'diagnosis':'diagnosis.csv', 'edstays':'edstays.csv',  'medrecon':'medrecon.csv',  'pyxis':'pyxis.csv',  'triage':'triage.csv',  'vitalsign':'vitalsign.csv'}\n",
    "\n",
    "\n",
    "complaint_dict = {\"chiefcom_chest_pain\" : \"chest pain\", \"chiefcom_abdominal_pain\" : \"abdominal pain|abd pain\", \n",
    "\"chiefcom_headache\" : \"headache|lightheaded\", \"chiefcom_shortness_of_breath\" : \"breath\", \"chiefcom_back_pain\" : \"back pain\", \"chiefcom_cough\" : \"cough\", \n",
    "\"chiefcom_nausea_vomiting\" : \"nausea|vomit\", \"chiefcom_fever_chills\" : \"fever|chill\", \"chiefcom_syncope\" :\"syncope\", \"chiefcom_dizziness\" : \"dizz\"}\n",
    "\n",
    "## Defining health utilization timerange parameters in days\n",
    "icu_transfer_timerange = 12 # hours\n",
    "# past_ed_visits_timerange = 365\n",
    "# past_admissions_timerange = 365 \n",
    "# past_icu_visits_timerange = 365\n",
    "next_ed_visit_timerange = 3\n"
   ]
  },
  {
   "cell_type": "markdown",
   "metadata": {
    "pycharm": {
     "name": "#%% md\n"
    }
   },
   "source": [
    "## Load raw data tables through pandas library"
   ]
  },
  {
   "cell_type": "code",
   "execution_count": 4,
   "metadata": {
    "pycharm": {
     "name": "#%%\n"
    }
   },
   "outputs": [],
   "source": [
    "## Reading main tables\n",
    "df_edstays = read_edstays_table(os.path.join(mimic_iv_ed_path, ed_filename_dict['edstays']))\n",
    "if os.path.exists(mimic_iv_core_path):\n",
    "    df_patients = read_patients_table(os.path.join(mimic_iv_core_path, core_filename_dict['patients']))\n",
    "    df_admissions = read_admissions_table(os.path.join(mimic_iv_core_path, core_filename_dict[\"admissions\"]))\n",
    "else:\n",
    "    df_patients = read_patients_table(os.path.join(mimic_iv_hosp_path, core_filename_dict['patients']))\n",
    "    df_admissions = read_admissions_table(os.path.join(mimic_iv_hosp_path, core_filename_dict[\"admissions\"]))\n",
    "df_icustays = read_icustays_table(os.path.join(mimic_iv_icu_path, icu_filename_dict['icustays']))\n",
    "df_triage = read_triage_table(os.path.join(mimic_iv_ed_path, ed_filename_dict['triage']))\n",
    "df_vitalsign = read_vitalsign_table(os.path.join(mimic_iv_ed_path, ed_filename_dict['vitalsign']))\n",
    "df_pyxis = read_pyxis_table(os.path.join(mimic_iv_ed_path, ed_filename_dict['pyxis']))\n",
    "df_medrecon = read_pyxis_table(os.path.join(mimic_iv_ed_path, ed_filename_dict['medrecon']))\n",
    "\n",
    "## Read data here for ICD.\n",
    "df_diagnoses = read_diagnoses_table(os.path.join(mimic_iv_hosp_path, hosp_filename_dict['diagnoses_icd']))\n"
   ]
  },
  {
   "cell_type": "markdown",
   "metadata": {
    "pycharm": {
     "name": "#%% md\n"
    }
   },
   "source": [
    "## ED root table, demographic and outcomes"
   ]
  },
  {
   "cell_type": "code",
   "execution_count": 5,
   "metadata": {
    "pycharm": {
     "name": "#%%\n"
    }
   },
   "outputs": [],
   "source": [
    "## Merging patients -> merging admissions -> merging triage -> master\n",
    "df_master = merge_edstays_patients_on_subject(df_edstays ,df_patients)\n",
    "df_master = merge_edstays_admissions_on_subject(df_master ,df_admissions)"
   ]
  },
  {
   "cell_type": "code",
   "execution_count": 6,
   "metadata": {
    "pycharm": {
     "name": "#%%\n"
    }
   },
   "outputs": [
    {
     "name": "stdout",
     "output_type": "stream",
     "text": [
      "Process: 448972/448972\r"
     ]
    }
   ],
   "source": [
    "## Adding age, mortality and ICU transfer outcome\n",
    "df_master = add_age(df_master)\n",
    "df_master = add_inhospital_mortality(df_master)\n",
    "df_master = add_ed_los(df_master)\n",
    "df_master = add_outcome_icu_transfer(df_master, df_icustays, icu_transfer_timerange)\n",
    "df_master['outcome_hospitalization'] = ~pd.isnull(df_master['hadm_id'])\n",
    "df_master['outcome_critical'] = df_master['outcome_inhospital_mortality'] | df_master[''.join(['outcome_icu_transfer_', str(icu_transfer_timerange), 'h'])]\n",
    "\n",
    "# Sort Master table for further process\n",
    "df_master = df_master.sort_values(['subject_id', 'intime']).reset_index()\n",
    "\n",
    "# Filling subjects NA ethnicity, takes ~17s\n",
    "df_master = fill_na_ethnicity(df_master)"
   ]
  },
  {
   "cell_type": "markdown",
   "metadata": {
    "pycharm": {
     "name": "#%% md\n"
    }
   },
   "source": [
    "## Health Utilization"
   ]
  },
  {
   "cell_type": "code",
   "execution_count": 7,
   "metadata": {
    "pycharm": {
     "name": "#%%\n"
    }
   },
   "outputs": [
    {
     "name": "stdout",
     "output_type": "stream",
     "text": [
      "Process: 448972/448972\r"
     ]
    }
   ],
   "source": [
    "## Generate past ED visits\n",
    "df_master = generate_past_ed_visits(df_master, timerange=30)\n",
    "df_master = generate_past_ed_visits(df_master, timerange=90)\n",
    "df_master = generate_past_ed_visits(df_master, timerange=365)"
   ]
  },
  {
   "cell_type": "code",
   "execution_count": 8,
   "metadata": {
    "pycharm": {
     "name": "#%%\n"
    }
   },
   "outputs": [
    {
     "name": "stdout",
     "output_type": "stream",
     "text": [
      "Process: 448972/448972\r"
     ]
    }
   ],
   "source": [
    "## Oucome:  future ED revisit variables\n",
    "df_master = generate_future_ed_visits(df_master, next_ed_visit_timerange)"
   ]
  },
  {
   "cell_type": "code",
   "execution_count": 9,
   "metadata": {
    "pycharm": {
     "name": "#%%\n"
    }
   },
   "outputs": [
    {
     "name": "stdout",
     "output_type": "stream",
     "text": [
      "Process: 448972/448972\r"
     ]
    }
   ],
   "source": [
    "## Generate past admissions\n",
    "df_master = generate_past_admissions(df_master, df_admissions, timerange=30)\n",
    "df_master = generate_past_admissions(df_master, df_admissions, timerange=90)\n",
    "df_master = generate_past_admissions(df_master, df_admissions, timerange=365)"
   ]
  },
  {
   "cell_type": "code",
   "execution_count": 10,
   "metadata": {
    "pycharm": {
     "name": "#%%\n"
    }
   },
   "outputs": [
    {
     "name": "stdout",
     "output_type": "stream",
     "text": [
      "Process: 448972/448972\r"
     ]
    }
   ],
   "source": [
    "## Generate past icu visits\n",
    "df_master  = generate_past_icu_visits(df_master, df_icustays, timerange=30)\n",
    "df_master  = generate_past_icu_visits(df_master, df_icustays, timerange=90)\n",
    "df_master  = generate_past_icu_visits(df_master, df_icustays, timerange=365)"
   ]
  },
  {
   "cell_type": "code",
   "execution_count": 11,
   "metadata": {
    "pycharm": {
     "name": "#%%\n"
    }
   },
   "outputs": [
    {
     "name": "stdout",
     "output_type": "stream",
     "text": [
      "Process: 448972/448972\r"
     ]
    }
   ],
   "source": [
    "## Generate numeric timedelta variables\n",
    "df_master = generate_numeric_timedelta(df_master)"
   ]
  },
  {
   "cell_type": "markdown",
   "metadata": {
    "pycharm": {
     "name": "#%% md\n"
    }
   },
   "source": [
    "## Triage Information"
   ]
  },
  {
   "cell_type": "code",
   "execution_count": 12,
   "metadata": {
    "pycharm": {
     "name": "#%%\n"
    }
   },
   "outputs": [],
   "source": [
    "## Mergining with triage table, Comment: revise the variable names? triage_*\n",
    "df_master = merge_edstays_triage_on_subject(df_master, df_triage) ## note change to merge master "
   ]
  },
  {
   "cell_type": "code",
   "execution_count": 13,
   "metadata": {
    "pycharm": {
     "name": "#%%\n"
    }
   },
   "outputs": [],
   "source": [
    "## Encoding 10 chief complaints\n",
    "df_master = encode_chief_complaints(df_master, complaint_dict)"
   ]
  },
  {
   "cell_type": "markdown",
   "metadata": {
    "pycharm": {
     "name": "#%% md\n"
    }
   },
   "source": [
    "## Comorbidities from diagnosis ICD"
   ]
  },
  {
   "cell_type": "code",
   "execution_count": 14,
   "metadata": {
    "pycharm": {
     "name": "#%%\n"
    }
   },
   "outputs": [
    {
     "name": "stdout",
     "output_type": "stream",
     "text": [
      "Number of unique ICD codes v9:  5679\n",
      "Number of unique ICD codes v9_3digit:  5571\n",
      "Number of unique ICD codes v10:  7930\n"
     ]
    }
   ],
   "source": [
    "# This function takes about 10 min\n",
    "df_master = commorbidity(df_master, df_diagnoses, df_admissions, timerange = 356*5)\n",
    "extract_icd_list(df_edstays, df_diagnoses, df_admissions, output_path, timerange = 356*5, version = 'v9')\n",
    "extract_icd_list(df_edstays, df_diagnoses, df_admissions, output_path, timerange = 356*5, version = 'v9_3digit')\n",
    "extract_icd_list(df_edstays, df_diagnoses, df_admissions, output_path, timerange = 356*5, version = 'v10')\n"
   ]
  },
  {
   "cell_type": "markdown",
   "metadata": {
    "pycharm": {
     "name": "#%% md\n"
    }
   },
   "source": [
    "## ED Vital signs"
   ]
  },
  {
   "cell_type": "code",
   "execution_count": 15,
   "metadata": {
    "pycharm": {
     "name": "#%%\n"
    }
   },
   "outputs": [],
   "source": [
    "df_master = merge_vitalsign_info_on_edstay(df_master, df_vitalsign, options=['last'])"
   ]
  },
  {
   "cell_type": "markdown",
   "metadata": {
    "pycharm": {
     "name": "#%% md\n"
    }
   },
   "source": [
    "## Medication"
   ]
  },
  {
   "cell_type": "code",
   "execution_count": 16,
   "metadata": {
    "pycharm": {
     "name": "#%%\n"
    }
   },
   "outputs": [],
   "source": [
    "df_master = merge_med_count_on_edstay(df_master, df_pyxis)"
   ]
  },
  {
   "cell_type": "code",
   "execution_count": 17,
   "metadata": {
    "pycharm": {
     "name": "#%%\n"
    }
   },
   "outputs": [],
   "source": [
    "df_master = merge_medrecon_count_on_edstay(df_master, df_medrecon)"
   ]
  },
  {
   "cell_type": "markdown",
   "metadata": {
    "pycharm": {
     "name": "#%% md\n"
    }
   },
   "source": [
    "## Generate ICD code list dataset for embedding"
   ]
  },
  {
   "cell_type": "code",
   "execution_count": null,
   "metadata": {
    "pycharm": {
     "name": "#%%\n"
    }
   },
   "outputs": [],
   "source": []
  },
  {
   "cell_type": "markdown",
   "metadata": {
    "pycharm": {
     "name": "#%% md\n"
    }
   },
   "source": [
    "## Review the master dataset and output"
   ]
  },
  {
   "cell_type": "code",
   "execution_count": 18,
   "metadata": {
    "pycharm": {
     "name": "#%%\n"
    }
   },
   "outputs": [],
   "source": [
    "#df_master.head(100).to_csv(os.path.join(output_path, 'master_dataset_part.csv'), index=False)\n",
    "# Full dataset:\n",
    "df_master.to_csv(os.path.join(output_path, 'master_dataset.csv'), index=False)"
   ]
  }
 ],
 "metadata": {
  "kernelspec": {
   "display_name": "Python 3",
   "language": "python",
   "name": "python3"
  },
  "language_info": {
   "codemirror_mode": {
    "name": "ipython",
    "version": 3
   },
   "file_extension": ".py",
   "mimetype": "text/x-python",
   "name": "python",
   "nbconvert_exporter": "python",
   "pygments_lexer": "ipython3",
   "version": "3.8.8"
  },
  "vscode": {
   "interpreter": {
    "hash": "aee8b7b246df8f9039afb4144a1f6fd8d2ca17a180786b69acc140d282b71a49"
   }
  }
 },
 "nbformat": 4,
 "nbformat_minor": 2
}